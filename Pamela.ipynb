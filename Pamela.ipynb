{
 "cells": [
  {
   "cell_type": "markdown",
   "metadata": {},
   "source": [
    "1. ***Data Preprossesing***"
   ]
  },
  {
   "cell_type": "markdown",
   "metadata": {},
   "source": [
    "Purpose:\n",
    "\n",
    "1. To have first visual of Data\n",
    "\n",
    "2. To handle missing values properly \n",
    "\n",
    "3. Feature Engineering: To create new features like car age (2024 - Make_Year), price per kilometer, or any other domain-specific variables that may influence pricing.\n",
    "\n",
    "4. Categorical Encoding"
   ]
  },
  {
   "cell_type": "code",
   "execution_count": 282,
   "metadata": {},
   "outputs": [],
   "source": [
    "# Importing Required libraies\n",
    "import pandas as pd \n",
    "import numpy as np\n",
    "\n",
    "import matplotlib.pyplot as plt \n",
    "import seaborn as sns\n",
    "%matplotlib inline \n",
    "\n",
    "import scipy.stats as stats\n",
    "import warnings \n",
    "warnings.filterwarnings('ignore')"
   ]
  },
  {
   "cell_type": "code",
   "execution_count": 283,
   "metadata": {},
   "outputs": [],
   "source": [
    "#Loading Data Sets\n",
    "Ahmedabad_data = pd.read_csv('Ahmedabad.csv')\n",
    "Banglore_data = pd.read_csv('Banglore.csv')\n",
    "Car_data = pd.read_csv('Car_data.csv')\n",
    "Chennai_data = pd.read_csv('Chennai.csv')\n",
    "Gurgaon_data = pd.read_csv('Gurgaon.csv')\n",
    "Hyderabad_data = pd.read_csv('Hyderabad.csv')\n",
    "Jaipur_data = pd.read_csv('Jaipur.csv')\n",
    "Kolkata_data = pd.read_csv('Kolkata.csv')\n",
    "Mumbai_data = pd.read_csv('Mumbai.csv')\n",
    "Pune_data = pd.read_csv('Pune.csv')"
   ]
  },
  {
   "cell_type": "code",
   "execution_count": 284,
   "metadata": {},
   "outputs": [],
   "source": [
    "#combining all the data sets\n",
    "combined_data = pd.concat([Ahmedabad_data, Banglore_data, Car_data, Chennai_data, Gurgaon_data, Hyderabad_data, Jaipur_data, Kolkata_data, Mumbai_data, Pune_data], ignore_index=True)\n",
    "\n"
   ]
  },
  {
   "cell_type": "code",
   "execution_count": 285,
   "metadata": {},
   "outputs": [],
   "source": [
    "# Renaming the variable combined_data to Data\n",
    "Data = combined_data\n"
   ]
  },
  {
   "cell_type": "code",
   "execution_count": 286,
   "metadata": {},
   "outputs": [
    {
     "name": "stdout",
     "output_type": "stream",
     "text": [
      "(10394, 21)\n"
     ]
    }
   ],
   "source": [
    "# Check the shape of the Data\n",
    "print(Data.shape)\n"
   ]
  },
  {
   "cell_type": "code",
   "execution_count": 287,
   "metadata": {},
   "outputs": [
    {
     "data": {
      "text/html": [
       "<div>\n",
       "<style scoped>\n",
       "    .dataframe tbody tr th:only-of-type {\n",
       "        vertical-align: middle;\n",
       "    }\n",
       "\n",
       "    .dataframe tbody tr th {\n",
       "        vertical-align: top;\n",
       "    }\n",
       "\n",
       "    .dataframe thead th {\n",
       "        text-align: right;\n",
       "    }\n",
       "</style>\n",
       "<table border=\"1\" class=\"dataframe\">\n",
       "  <thead>\n",
       "    <tr style=\"text-align: right;\">\n",
       "      <th></th>\n",
       "      <th>Unnamed: 0</th>\n",
       "      <th>Brand</th>\n",
       "      <th>Make_Year</th>\n",
       "      <th>Fuel</th>\n",
       "      <th>KMs_Driven</th>\n",
       "      <th>Engine_Displacement</th>\n",
       "      <th>No_Of_Owner</th>\n",
       "      <th>Transmission</th>\n",
       "      <th>Mileage</th>\n",
       "      <th>Max_Power</th>\n",
       "      <th>...</th>\n",
       "      <th>Seats</th>\n",
       "      <th>Color</th>\n",
       "      <th>Gear_Box</th>\n",
       "      <th>Drive_Type</th>\n",
       "      <th>Steering_Type</th>\n",
       "      <th>Front_Brake_Type</th>\n",
       "      <th>Rear_Brake_Type</th>\n",
       "      <th>Acceleration</th>\n",
       "      <th>Engine_Type</th>\n",
       "      <th>Price</th>\n",
       "    </tr>\n",
       "  </thead>\n",
       "  <tbody>\n",
       "    <tr>\n",
       "      <th>0</th>\n",
       "      <td>0</td>\n",
       "      <td>2020 Maruti Swift Dzire</td>\n",
       "      <td>2019</td>\n",
       "      <td>Petrol</td>\n",
       "      <td>11,935 Kms</td>\n",
       "      <td>1197 cc</td>\n",
       "      <td>1st Owner</td>\n",
       "      <td>Manual</td>\n",
       "      <td>21.21 kmpl</td>\n",
       "      <td>81.80bhp</td>\n",
       "      <td>...</td>\n",
       "      <td>5</td>\n",
       "      <td>Grey</td>\n",
       "      <td>5 Speed</td>\n",
       "      <td>FWD</td>\n",
       "      <td>Power</td>\n",
       "      <td>Disc</td>\n",
       "      <td>Drum</td>\n",
       "      <td>12.6 Seconds</td>\n",
       "      <td>K Series VVT Engine</td>\n",
       "      <td>6,80,000</td>\n",
       "    </tr>\n",
       "    <tr>\n",
       "      <th>1</th>\n",
       "      <td>1</td>\n",
       "      <td>2016 Nissan Terrano</td>\n",
       "      <td>2016</td>\n",
       "      <td>Diesel</td>\n",
       "      <td>74,555 Kms</td>\n",
       "      <td>1461 cc</td>\n",
       "      <td>2nd Owner</td>\n",
       "      <td>Manual</td>\n",
       "      <td>20.45 kmpl</td>\n",
       "      <td>83.8bhp</td>\n",
       "      <td>...</td>\n",
       "      <td>5</td>\n",
       "      <td>Black</td>\n",
       "      <td>5 Speed</td>\n",
       "      <td>FWD</td>\n",
       "      <td>Power</td>\n",
       "      <td>Disc</td>\n",
       "      <td>Drum</td>\n",
       "      <td>14 Seconds</td>\n",
       "      <td>K9K Diesel Engine</td>\n",
       "      <td>4,70,500</td>\n",
       "    </tr>\n",
       "    <tr>\n",
       "      <th>2</th>\n",
       "      <td>2</td>\n",
       "      <td>2020 Maruti Swift Dzire</td>\n",
       "      <td>2019</td>\n",
       "      <td>Petrol</td>\n",
       "      <td>9,379 Kms</td>\n",
       "      <td>1197 cc</td>\n",
       "      <td>1st Owner</td>\n",
       "      <td>Manual</td>\n",
       "      <td>21.21 kmpl</td>\n",
       "      <td>81.80bhp</td>\n",
       "      <td>...</td>\n",
       "      <td>5</td>\n",
       "      <td>White</td>\n",
       "      <td>5 Speed</td>\n",
       "      <td>FWD</td>\n",
       "      <td>Power</td>\n",
       "      <td>Disc</td>\n",
       "      <td>Drum</td>\n",
       "      <td>12.6 Seconds</td>\n",
       "      <td>K Series VVT Engine</td>\n",
       "      <td>6,75,000</td>\n",
       "    </tr>\n",
       "    <tr>\n",
       "      <th>3</th>\n",
       "      <td>3</td>\n",
       "      <td>2018 Maruti Swift</td>\n",
       "      <td>2018</td>\n",
       "      <td>Diesel</td>\n",
       "      <td>31,824 Kms</td>\n",
       "      <td>1248 cc</td>\n",
       "      <td>1st Owner</td>\n",
       "      <td>Manual</td>\n",
       "      <td>28.4 kmpl</td>\n",
       "      <td>74bhp</td>\n",
       "      <td>...</td>\n",
       "      <td>5</td>\n",
       "      <td>Red</td>\n",
       "      <td>5</td>\n",
       "      <td>FWD</td>\n",
       "      <td>Power</td>\n",
       "      <td>Disc</td>\n",
       "      <td>Drum</td>\n",
       "      <td>NaN</td>\n",
       "      <td>DDiS 190 Engine</td>\n",
       "      <td>6,00,000</td>\n",
       "    </tr>\n",
       "    <tr>\n",
       "      <th>4</th>\n",
       "      <td>4</td>\n",
       "      <td>2017 Maruti Baleno</td>\n",
       "      <td>2017</td>\n",
       "      <td>Petrol</td>\n",
       "      <td>49,072 Kms</td>\n",
       "      <td>1197 cc</td>\n",
       "      <td>1st Owner</td>\n",
       "      <td>Manual</td>\n",
       "      <td>21.01 kmpl</td>\n",
       "      <td>81.80bhp</td>\n",
       "      <td>...</td>\n",
       "      <td>5</td>\n",
       "      <td>Blue</td>\n",
       "      <td>5 Speed</td>\n",
       "      <td>FWD</td>\n",
       "      <td>Electric</td>\n",
       "      <td>Disc</td>\n",
       "      <td>Drum</td>\n",
       "      <td>12.36 seconds</td>\n",
       "      <td>1.2L VVT Engine</td>\n",
       "      <td>6,10,000</td>\n",
       "    </tr>\n",
       "  </tbody>\n",
       "</table>\n",
       "<p>5 rows × 21 columns</p>\n",
       "</div>"
      ],
      "text/plain": [
       "   Unnamed: 0                    Brand  Make_Year    Fuel  KMs_Driven  \\\n",
       "0           0  2020 Maruti Swift Dzire       2019  Petrol  11,935 Kms   \n",
       "1           1      2016 Nissan Terrano       2016  Diesel  74,555 Kms   \n",
       "2           2  2020 Maruti Swift Dzire       2019  Petrol   9,379 Kms   \n",
       "3           3        2018 Maruti Swift       2018  Diesel  31,824 Kms   \n",
       "4           4       2017 Maruti Baleno       2017  Petrol  49,072 Kms   \n",
       "\n",
       "  Engine_Displacement No_Of_Owner Transmission     Mileage Max_Power  ...  \\\n",
       "0             1197 cc   1st Owner       Manual  21.21 kmpl  81.80bhp  ...   \n",
       "1             1461 cc   2nd Owner       Manual  20.45 kmpl   83.8bhp  ...   \n",
       "2             1197 cc   1st Owner       Manual  21.21 kmpl  81.80bhp  ...   \n",
       "3             1248 cc   1st Owner       Manual   28.4 kmpl     74bhp  ...   \n",
       "4             1197 cc   1st Owner       Manual  21.01 kmpl  81.80bhp  ...   \n",
       "\n",
       "  Seats  Color Gear_Box Drive_Type Steering_Type Front_Brake_Type  \\\n",
       "0     5   Grey  5 Speed        FWD         Power             Disc   \n",
       "1     5  Black  5 Speed        FWD         Power             Disc   \n",
       "2     5  White  5 Speed        FWD         Power             Disc   \n",
       "3     5    Red        5        FWD         Power             Disc   \n",
       "4     5   Blue  5 Speed        FWD      Electric             Disc   \n",
       "\n",
       "  Rear_Brake_Type   Acceleration          Engine_Type     Price  \n",
       "0            Drum   12.6 Seconds  K Series VVT Engine  6,80,000  \n",
       "1            Drum     14 Seconds    K9K Diesel Engine  4,70,500  \n",
       "2            Drum   12.6 Seconds  K Series VVT Engine  6,75,000  \n",
       "3            Drum            NaN      DDiS 190 Engine  6,00,000  \n",
       "4            Drum  12.36 seconds      1.2L VVT Engine  6,10,000  \n",
       "\n",
       "[5 rows x 21 columns]"
      ]
     },
     "execution_count": 287,
     "metadata": {},
     "output_type": "execute_result"
    }
   ],
   "source": [
    "Data.head()\n"
   ]
  },
  {
   "cell_type": "markdown",
   "metadata": {},
   "source": [
    "Inspecting the Data: Check data types, null values, and the general structure of the dataset."
   ]
  },
  {
   "cell_type": "code",
   "execution_count": 288,
   "metadata": {},
   "outputs": [
    {
     "name": "stdout",
     "output_type": "stream",
     "text": [
      "<class 'pandas.core.frame.DataFrame'>\n",
      "RangeIndex: 10394 entries, 0 to 10393\n",
      "Data columns (total 21 columns):\n",
      " #   Column               Non-Null Count  Dtype \n",
      "---  ------               --------------  ----- \n",
      " 0   Unnamed: 0           10394 non-null  int64 \n",
      " 1   Brand                10394 non-null  object\n",
      " 2   Make_Year            10394 non-null  int64 \n",
      " 3   Fuel                 10394 non-null  object\n",
      " 4   KMs_Driven           10394 non-null  object\n",
      " 5   Engine_Displacement  10394 non-null  object\n",
      " 6   No_Of_Owner          10394 non-null  object\n",
      " 7   Transmission         10394 non-null  object\n",
      " 8   Mileage              10394 non-null  object\n",
      " 9   Max_Power            10394 non-null  object\n",
      " 10  Torque               10394 non-null  object\n",
      " 11  Seats                10394 non-null  int64 \n",
      " 12  Color                10394 non-null  object\n",
      " 13  Gear_Box             10386 non-null  object\n",
      " 14  Drive_Type           10208 non-null  object\n",
      " 15  Steering_Type        10344 non-null  object\n",
      " 16  Front_Brake_Type     10346 non-null  object\n",
      " 17  Rear_Brake_Type      10346 non-null  object\n",
      " 18  Acceleration         9320 non-null   object\n",
      " 19  Engine_Type          5144 non-null   object\n",
      " 20  Price                10394 non-null  object\n",
      "dtypes: int64(3), object(18)\n",
      "memory usage: 1.7+ MB\n"
     ]
    }
   ],
   "source": [
    "Data.info()  # Shows data types and missing values\n",
    "\n"
   ]
  },
  {
   "cell_type": "markdown",
   "metadata": {},
   "source": [
    "**DataFrame Summary**\n",
    "\n",
    "Total Entries: 10,394 rows (indexed from 0 to 10,393).\n",
    "\n",
    "Total Columns: 21 columns.\n",
    "\n",
    "**Column Details**\n",
    "\n",
    "**Data Types:**\n",
    "\n",
    "int64: 3 columns (e.g., Unnamed: 0, Make_Year, Seats).\n",
    "\n",
    "object: 18 columns (e.g., Brand, Fuel, KMs_Driven, etc.).\n",
    "\n",
    "**Non-Null Counts**\n",
    "\n",
    "Most columns have 10,394 non-null entries, indicating no missing values.\n",
    "\n",
    "Some columns have missing values:\n",
    "\n",
    "Gear_Box: 10,386 non-null entries.\n",
    "\n",
    "Drive_Type: 10,208 non-null entries.\n",
    "\n",
    "Steering_Type: 10,344 non-null entries.\n",
    "\n",
    "Front_Brake_Type: 10,346 non-null entries.\n",
    "\n",
    "Rear_Brake_Type: 10,346 non-null entries.\n",
    "\n",
    "Acceleration: 9,320 non-null entries.\n",
    "\n",
    "Engine_Type: 5,144 non-null entries.\n",
    "\n",
    "\n",
    "**Conclusion**\n",
    "The DataFrame contains a mix of integer and object data types, with some columns having missing values. Most columns are fully populated, while a few require attention for missing data."
   ]
  },
  {
   "cell_type": "markdown",
   "metadata": {},
   "source": [
    "2. ***Exploratory Data Analysis***\n",
    "\n",
    "Visualizations: To create plots to visualize relationships between features and the target variable (e.g., price).\n",
    "\n",
    "To understand distributions, correlations, and trends in the data.\n",
    "\n",
    "Feature Importance: Identify which features are most important for predicting the target variable."
   ]
  },
  {
   "cell_type": "code",
   "execution_count": 289,
   "metadata": {},
   "outputs": [
    {
     "name": "stdout",
     "output_type": "stream",
     "text": [
      "         Unnamed: 0     Make_Year         Seats\n",
      "count  10394.000000  10394.000000  10394.000000\n",
      "mean    1460.271984   2014.891861      5.188378\n",
      "std     1563.455786      3.094559      0.653699\n",
      "min        0.000000   1995.000000      2.000000\n",
      "25%      262.000000   2013.000000      5.000000\n",
      "50%      594.000000   2015.000000      5.000000\n",
      "75%     2597.750000   2017.000000      5.000000\n",
      "max     5196.000000   2021.000000      9.000000\n"
     ]
    }
   ],
   "source": [
    "# Display summary statistics\n",
    "print(Data.describe())"
   ]
  },
  {
   "cell_type": "markdown",
   "metadata": {},
   "source": [
    "The dataset provides a broad range of used cars, with model years spanning from 1995 to 2021, and a significant variation in mileage, ranging from 200 km to over 2.15 million km. \n",
    "\n",
    "The average car age is approximately 9 years, with a typical car having 5 seats. While most cars have a moderate mileage of around 59,309 km, there is considerable variation in both car age and kilometers driven. \n",
    "\n",
    "The seats column shows minimal variation, mostly containing cars with 5 seats. Overall, the dataset reflects a mix of newer and older cars with diverse usage, offering a broad spectrum of vehicles for analysis."
   ]
  },
  {
   "cell_type": "code",
   "execution_count": 290,
   "metadata": {},
   "outputs": [
    {
     "data": {
      "image/png": "[encoded data removed]",
      "text/plain": [
       "<Figure size 1000x600 with 1 Axes>"
      ]
     },
     "metadata": {},
     "output_type": "display_data"
    }
   ],
   "source": [
    "#Data Visualization\n",
    "#Distribution of Numerical Features: Using histograms to visualize the distribution of numerical features.\n",
    "# Convert 'Price' to numeric values, forcing errors to NaN\n",
    "Data['Price'] = pd.to_numeric(Data['Price'], errors='coerce')\n",
    "\n",
    "# Drop rows with NaN values in 'Price' (optional, based on your preference)\n",
    "Data = Data.dropna(subset=['Price'])\n",
    "\n",
    "# Now plot the histogram\n",
    "plt.figure(figsize=(10, 6))\n",
    "sns.histplot(Data['Price'], bins=30, kde=True)\n",
    "plt.title('Distribution of Car Prices')\n",
    "plt.xlabel('Price')\n",
    "plt.ylabel('Frequency')\n",
    "plt.show()\n"
   ]
  },
  {
   "cell_type": "code",
   "execution_count": 291,
   "metadata": {},
   "outputs": [
    {
     "data": {
      "image/png": "[encoded data removed]",
      "text/plain": [
       "<Figure size 1000x600 with 1 Axes>"
      ]
     },
     "metadata": {},
     "output_type": "display_data"
    }
   ],
   "source": [
    "#Scatter Plot: Visualize the relationship between two numerical features.\n",
    "# Scatter plot of KMs_Driven vs Price\n",
    "plt.figure(figsize=(10, 6))\n",
    "sns.scatterplot(data=Data, x='KMs_Driven', y='Price')\n",
    "plt.title('KMs Driven vs Price')\n",
    "plt.xlabel('KMs Driven')\n",
    "plt.ylabel('Price')\n",
    "plt.show()"
   ]
  },
  {
   "cell_type": "code",
   "execution_count": 300,
   "metadata": {},
   "outputs": [
    {
     "data": {
      "image/png": "[encoded data removed]",
      "text/plain": [
       "<Figure size 1000x600 with 1 Axes>"
      ]
     },
     "metadata": {},
     "output_type": "display_data"
    }
   ],
   "source": [
    "# Categorical Analysis\n",
    "# Count plot for the 'Fuel' column\n",
    "plt.figure(figsize=(10, 6))\n",
    "sns.countplot(data=Data, x='Fuel')\n",
    "plt.title('Distribution of Fuel Types')\n",
    "plt.xlabel('Fuel Type')\n",
    "plt.ylabel('Count')\n",
    "plt.xticks(rotation=45)\n",
    "plt.show()"
   ]
  },
  {
   "cell_type": "markdown",
   "metadata": {},
   "source": [
    "In the bar chart, we see the distribution of various fuel types for the vehicles in our dataset. Here's a breakdown of the insights:\n",
    "\n",
    "Petrol: This fuel type has the highest count, exceeding 3,000. This suggests that petrol vehicles are the most common in the dataset.\n",
    "\n",
    "Diesel: Diesel vehicles are also quite common, with over 2,000 entries, making them the second most frequent fuel type after petrol.\n",
    "\n",
    "Other Fuel Types (LPG, CNG, Electric): These fuel types have very low counts, close to zero compared to petrol and diesel. This indicates that vehicles with these alternative fuel types are rare in your dataset.\n",
    "\n",
    "Key Takeaways\n",
    "\n",
    "Market Composition: Petrol and diesel vehicles dominate the dataset, which may reflect general market trends or the specific focus of our data collection.\n",
    "\n",
    "Low Representation of Alternative Fuels: The small counts of LPG, CNG, and electric vehicles suggest limited representation of these types. This might impact analyses if you want to include these fuels in comparative studies due to sample size limitations.\n",
    "\n",
    "Further Analysis: It may be valuable to investigate other factors, such as vehicle age, mileage, or brand, in relation to fuel type to gain deeper insights into each category."
   ]
  },
  {
   "cell_type": "code",
   "execution_count": 293,
   "metadata": {},
   "outputs": [
    {
     "data": {
      "image/png": "[encoded data removed]",
      "text/plain": [
       "<Figure size 1200x800 with 2 Axes>"
      ]
     },
     "metadata": {},
     "output_type": "display_data"
    }
   ],
   "source": [
    "#Correlation Analysis\n",
    "#Correlation Heatmap to visualize the correlation between numerical features.\n",
    "# Select only numeric columns\n",
    "numeric_cols = Data.select_dtypes(include=['float64', 'int64']).columns\n",
    "Data_numeric = Data[numeric_cols]\n",
    "\n",
    "# Drop rows with missing values\n",
    "Data_numeric = Data_numeric.dropna()\n",
    "\n",
    "# Compute the correlation matrix\n",
    "corr_matrix = Data_numeric.corr()\n",
    "\n",
    "# Plot heatmap with optimized settings\n",
    "plt.figure(figsize=(12, 8))\n",
    "sns.heatmap(corr_matrix, annot=True, cmap='coolwarm', cbar_kws={'shrink': 0.8})\n",
    "plt.title('Correlation Heatmap')\n",
    "plt.show()\n"
   ]
  },
  {
   "cell_type": "code",
   "execution_count": 294,
   "metadata": {},
   "outputs": [],
   "source": [
    "#Box Plot to compare the distribution of a numerical variable across different categories.\n"
   ]
  },
  {
   "cell_type": "markdown",
   "metadata": {},
   "source": [
    "2. Feature Engineering"
   ]
  },
  {
   "cell_type": "markdown",
   "metadata": {},
   "source": [
    "In this step of the project we will extract all the required features for our model devlopment and convert the categorical features\n",
    "into numerical feature "
   ]
  },
  {
   "cell_type": "code",
   "execution_count": 295,
   "metadata": {},
   "outputs": [
    {
     "name": "stdout",
     "output_type": "stream",
     "text": [
      "<class 'pandas.core.frame.DataFrame'>\n",
      "Int64Index: 5197 entries, 950 to 6146\n",
      "Data columns (total 21 columns):\n",
      " #   Column               Non-Null Count  Dtype  \n",
      "---  ------               --------------  -----  \n",
      " 0   Unnamed: 0           5197 non-null   int64  \n",
      " 1   Brand                5197 non-null   object \n",
      " 2   Make_Year            5197 non-null   int64  \n",
      " 3   Fuel                 5197 non-null   object \n",
      " 4   KMs_Driven           5197 non-null   object \n",
      " 5   Engine_Displacement  5197 non-null   object \n",
      " 6   No_Of_Owner          5197 non-null   object \n",
      " 7   Transmission         5197 non-null   object \n",
      " 8   Mileage              5197 non-null   object \n",
      " 9   Max_Power            5197 non-null   object \n",
      " 10  Torque               5197 non-null   object \n",
      " 11  Seats                5197 non-null   int64  \n",
      " 12  Color                5197 non-null   object \n",
      " 13  Gear_Box             5197 non-null   object \n",
      " 14  Drive_Type           5104 non-null   object \n",
      " 15  Steering_Type        5172 non-null   object \n",
      " 16  Front_Brake_Type     5173 non-null   object \n",
      " 17  Rear_Brake_Type      5173 non-null   object \n",
      " 18  Acceleration         4660 non-null   object \n",
      " 19  Engine_Type          0 non-null      object \n",
      " 20  Price                5197 non-null   float64\n",
      "dtypes: float64(1), int64(3), object(17)\n",
      "memory usage: 1.0+ MB\n"
     ]
    }
   ],
   "source": [
    "Data.info()"
   ]
  },
  {
   "cell_type": "code",
   "execution_count": 296,
   "metadata": {},
   "outputs": [],
   "source": [
    "#The dataset contains 21 columns with a total of 10,394 entries. \n",
    "# It includes a mix of numerical and categorical data. \n",
    "# Key columns include Brand, Make_Year, Fuel, KMs_Driven, Engine_Displacement, \n",
    "# and Price, with several columns containing missing values, such \n",
    "# as Engine_Type (5,144 non-null) and Acceleration (9,320 non-null).\n",
    "#  Most columns are of the object data type, with a few integer columns like Seats and \n",
    "# Unnamed: 0. Several columns like Drive_Type, Gear_Box, Steering_Type, \n",
    "# and Brake_Type have fewer non-null entries, indicating missing or incomplete data. \n",
    "# The Price column, essential for price prediction, is in object format, likely requiring conversion to numeric."
   ]
  },
  {
   "cell_type": "code",
   "execution_count": 297,
   "metadata": {},
   "outputs": [
    {
     "name": "stdout",
     "output_type": "stream",
     "text": [
      "Unnamed: 0                0\n",
      "Brand                     0\n",
      "Make_Year                 0\n",
      "Fuel                      0\n",
      "KMs_Driven                0\n",
      "Engine_Displacement       0\n",
      "No_Of_Owner               0\n",
      "Transmission              0\n",
      "Mileage                   0\n",
      "Max_Power                 0\n",
      "Torque                    0\n",
      "Seats                     0\n",
      "Color                     0\n",
      "Gear_Box                  0\n",
      "Drive_Type               93\n",
      "Steering_Type            25\n",
      "Front_Brake_Type         24\n",
      "Rear_Brake_Type          24\n",
      "Acceleration            537\n",
      "Engine_Type            5197\n",
      "Price                     0\n",
      "dtype: int64\n"
     ]
    }
   ],
   "source": [
    "# Get the count of missing values in each column\n",
    "missing_values = Data.isnull().sum()\n",
    "print(missing_values)\n",
    "\n"
   ]
  },
  {
   "cell_type": "code",
   "execution_count": 298,
   "metadata": {},
   "outputs": [
    {
     "ename": "AttributeError",
     "evalue": "Can only use .str accessor with string values!",
     "output_type": "error",
     "traceback": [
      "\u001b[1;31m---------------------------------------------------------------------------\u001b[0m",
      "\u001b[1;31mAttributeError\u001b[0m                            Traceback (most recent call last)",
      "Cell \u001b[1;32mIn [298], line 5\u001b[0m\n\u001b[0;32m      2\u001b[0m Data[[\u001b[38;5;124m'\u001b[39m\u001b[38;5;124mDrive_Type\u001b[39m\u001b[38;5;124m'\u001b[39m, \u001b[38;5;124m'\u001b[39m\u001b[38;5;124mSteering_Type\u001b[39m\u001b[38;5;124m'\u001b[39m, \u001b[38;5;124m'\u001b[39m\u001b[38;5;124mFront_Brake_Type\u001b[39m\u001b[38;5;124m'\u001b[39m, \u001b[38;5;124m'\u001b[39m\u001b[38;5;124mRear_Brake_Type\u001b[39m\u001b[38;5;124m'\u001b[39m, \u001b[38;5;124m'\u001b[39m\u001b[38;5;124mEngine_Type\u001b[39m\u001b[38;5;124m'\u001b[39m]] \u001b[38;5;241m=\u001b[39m Data[[\u001b[38;5;124m'\u001b[39m\u001b[38;5;124mDrive_Type\u001b[39m\u001b[38;5;124m'\u001b[39m, \u001b[38;5;124m'\u001b[39m\u001b[38;5;124mSteering_Type\u001b[39m\u001b[38;5;124m'\u001b[39m, \u001b[38;5;124m'\u001b[39m\u001b[38;5;124mFront_Brake_Type\u001b[39m\u001b[38;5;124m'\u001b[39m, \u001b[38;5;124m'\u001b[39m\u001b[38;5;124mRear_Brake_Type\u001b[39m\u001b[38;5;124m'\u001b[39m, \u001b[38;5;124m'\u001b[39m\u001b[38;5;124mEngine_Type\u001b[39m\u001b[38;5;124m'\u001b[39m]]\u001b[38;5;241m.\u001b[39mfillna(Data\u001b[38;5;241m.\u001b[39mmode()\u001b[38;5;241m.\u001b[39miloc[\u001b[38;5;241m0\u001b[39m])\n\u001b[0;32m      4\u001b[0m \u001b[38;5;66;03m# Clean the 'Acceleration' column and convert it to numeric\u001b[39;00m\n\u001b[1;32m----> 5\u001b[0m Data[\u001b[38;5;124m'\u001b[39m\u001b[38;5;124mAcceleration\u001b[39m\u001b[38;5;124m'\u001b[39m] \u001b[38;5;241m=\u001b[39m pd\u001b[38;5;241m.\u001b[39mto_numeric(\u001b[43mData\u001b[49m\u001b[43m[\u001b[49m\u001b[38;5;124;43m'\u001b[39;49m\u001b[38;5;124;43mAcceleration\u001b[39;49m\u001b[38;5;124;43m'\u001b[39;49m\u001b[43m]\u001b[49m\u001b[38;5;241;43m.\u001b[39;49m\u001b[43mstr\u001b[49m\u001b[38;5;241m.\u001b[39mextract(\u001b[38;5;124m'\u001b[39m\u001b[38;5;124m(\u001b[39m\u001b[38;5;124m\\\u001b[39m\u001b[38;5;124md+\u001b[39m\u001b[38;5;124m\\\u001b[39m\u001b[38;5;124m.?\u001b[39m\u001b[38;5;124m\\\u001b[39m\u001b[38;5;124md*)\u001b[39m\u001b[38;5;124m'\u001b[39m)[\u001b[38;5;241m0\u001b[39m], errors\u001b[38;5;241m=\u001b[39m\u001b[38;5;124m'\u001b[39m\u001b[38;5;124mcoerce\u001b[39m\u001b[38;5;124m'\u001b[39m)\n\u001b[0;32m      7\u001b[0m \u001b[38;5;66;03m# Fill missing values for 'Acceleration' with median\u001b[39;00m\n\u001b[0;32m      8\u001b[0m Data[\u001b[38;5;124m'\u001b[39m\u001b[38;5;124mAcceleration\u001b[39m\u001b[38;5;124m'\u001b[39m]\u001b[38;5;241m.\u001b[39mfillna(Data[\u001b[38;5;124m'\u001b[39m\u001b[38;5;124mAcceleration\u001b[39m\u001b[38;5;124m'\u001b[39m]\u001b[38;5;241m.\u001b[39mmedian(), inplace\u001b[38;5;241m=\u001b[39m\u001b[38;5;28;01mTrue\u001b[39;00m)\n",
      "File \u001b[1;32mc:\\Users\\Pamela Okinyo\\anaconda3\\envs\\learn-env\\lib\\site-packages\\pandas\\core\\generic.py:5135\u001b[0m, in \u001b[0;36mNDFrame.__getattr__\u001b[1;34m(self, name)\u001b[0m\n\u001b[0;32m   5128\u001b[0m \u001b[38;5;66;03m# Note: obj.x will always call obj.__getattribute__('x') prior to\u001b[39;00m\n\u001b[0;32m   5129\u001b[0m \u001b[38;5;66;03m# calling obj.__getattr__('x').\u001b[39;00m\n\u001b[0;32m   5130\u001b[0m \u001b[38;5;28;01mif\u001b[39;00m (\n\u001b[0;32m   5131\u001b[0m     name \u001b[38;5;129;01min\u001b[39;00m \u001b[38;5;28mself\u001b[39m\u001b[38;5;241m.\u001b[39m_internal_names_set\n\u001b[0;32m   5132\u001b[0m     \u001b[38;5;129;01mor\u001b[39;00m name \u001b[38;5;129;01min\u001b[39;00m \u001b[38;5;28mself\u001b[39m\u001b[38;5;241m.\u001b[39m_metadata\n\u001b[0;32m   5133\u001b[0m     \u001b[38;5;129;01mor\u001b[39;00m name \u001b[38;5;129;01min\u001b[39;00m \u001b[38;5;28mself\u001b[39m\u001b[38;5;241m.\u001b[39m_accessors\n\u001b[0;32m   5134\u001b[0m ):\n\u001b[1;32m-> 5135\u001b[0m     \u001b[38;5;28;01mreturn\u001b[39;00m \u001b[38;5;28;43mobject\u001b[39;49m\u001b[38;5;241;43m.\u001b[39;49m\u001b[38;5;21;43m__getattribute__\u001b[39;49m\u001b[43m(\u001b[49m\u001b[38;5;28;43mself\u001b[39;49m\u001b[43m,\u001b[49m\u001b[43m \u001b[49m\u001b[43mname\u001b[49m\u001b[43m)\u001b[49m\n\u001b[0;32m   5136\u001b[0m \u001b[38;5;28;01melse\u001b[39;00m:\n\u001b[0;32m   5137\u001b[0m     \u001b[38;5;28;01mif\u001b[39;00m \u001b[38;5;28mself\u001b[39m\u001b[38;5;241m.\u001b[39m_info_axis\u001b[38;5;241m.\u001b[39m_can_hold_identifiers_and_holds_name(name):\n",
      "File \u001b[1;32mc:\\Users\\Pamela Okinyo\\anaconda3\\envs\\learn-env\\lib\\site-packages\\pandas\\core\\accessor.py:187\u001b[0m, in \u001b[0;36mCachedAccessor.__get__\u001b[1;34m(self, obj, cls)\u001b[0m\n\u001b[0;32m    184\u001b[0m \u001b[38;5;28;01mif\u001b[39;00m obj \u001b[38;5;129;01mis\u001b[39;00m \u001b[38;5;28;01mNone\u001b[39;00m:\n\u001b[0;32m    185\u001b[0m     \u001b[38;5;66;03m# we're accessing the attribute of the class, i.e., Dataset.geo\u001b[39;00m\n\u001b[0;32m    186\u001b[0m     \u001b[38;5;28;01mreturn\u001b[39;00m \u001b[38;5;28mself\u001b[39m\u001b[38;5;241m.\u001b[39m_accessor\n\u001b[1;32m--> 187\u001b[0m accessor_obj \u001b[38;5;241m=\u001b[39m \u001b[38;5;28;43mself\u001b[39;49m\u001b[38;5;241;43m.\u001b[39;49m\u001b[43m_accessor\u001b[49m\u001b[43m(\u001b[49m\u001b[43mobj\u001b[49m\u001b[43m)\u001b[49m\n\u001b[0;32m    188\u001b[0m \u001b[38;5;66;03m# Replace the property with the accessor object. Inspired by:\u001b[39;00m\n\u001b[0;32m    189\u001b[0m \u001b[38;5;66;03m# https://www.pydanny.com/cached-property.html\u001b[39;00m\n\u001b[0;32m    190\u001b[0m \u001b[38;5;66;03m# We need to use object.__setattr__ because we overwrite __setattr__ on\u001b[39;00m\n\u001b[0;32m    191\u001b[0m \u001b[38;5;66;03m# NDFrame\u001b[39;00m\n\u001b[0;32m    192\u001b[0m \u001b[38;5;28mobject\u001b[39m\u001b[38;5;241m.\u001b[39m\u001b[38;5;21m__setattr__\u001b[39m(obj, \u001b[38;5;28mself\u001b[39m\u001b[38;5;241m.\u001b[39m_name, accessor_obj)\n",
      "File \u001b[1;32mc:\\Users\\Pamela Okinyo\\anaconda3\\envs\\learn-env\\lib\\site-packages\\pandas\\core\\strings.py:2100\u001b[0m, in \u001b[0;36mStringMethods.__init__\u001b[1;34m(self, data)\u001b[0m\n\u001b[0;32m   2099\u001b[0m \u001b[38;5;28;01mdef\u001b[39;00m \u001b[38;5;21m__init__\u001b[39m(\u001b[38;5;28mself\u001b[39m, data):\n\u001b[1;32m-> 2100\u001b[0m     \u001b[38;5;28mself\u001b[39m\u001b[38;5;241m.\u001b[39m_inferred_dtype \u001b[38;5;241m=\u001b[39m \u001b[38;5;28;43mself\u001b[39;49m\u001b[38;5;241;43m.\u001b[39;49m\u001b[43m_validate\u001b[49m\u001b[43m(\u001b[49m\u001b[43mdata\u001b[49m\u001b[43m)\u001b[49m\n\u001b[0;32m   2101\u001b[0m     \u001b[38;5;28mself\u001b[39m\u001b[38;5;241m.\u001b[39m_is_categorical \u001b[38;5;241m=\u001b[39m is_categorical_dtype(data\u001b[38;5;241m.\u001b[39mdtype)\n\u001b[0;32m   2102\u001b[0m     \u001b[38;5;28mself\u001b[39m\u001b[38;5;241m.\u001b[39m_is_string \u001b[38;5;241m=\u001b[39m data\u001b[38;5;241m.\u001b[39mdtype\u001b[38;5;241m.\u001b[39mname \u001b[38;5;241m==\u001b[39m \u001b[38;5;124m\"\u001b[39m\u001b[38;5;124mstring\u001b[39m\u001b[38;5;124m\"\u001b[39m\n",
      "File \u001b[1;32mc:\\Users\\Pamela Okinyo\\anaconda3\\envs\\learn-env\\lib\\site-packages\\pandas\\core\\strings.py:2157\u001b[0m, in \u001b[0;36mStringMethods._validate\u001b[1;34m(data)\u001b[0m\n\u001b[0;32m   2154\u001b[0m     inferred_dtype \u001b[38;5;241m=\u001b[39m \u001b[38;5;28;01mNone\u001b[39;00m\n\u001b[0;32m   2156\u001b[0m \u001b[38;5;28;01mif\u001b[39;00m inferred_dtype \u001b[38;5;129;01mnot\u001b[39;00m \u001b[38;5;129;01min\u001b[39;00m allowed_types:\n\u001b[1;32m-> 2157\u001b[0m     \u001b[38;5;28;01mraise\u001b[39;00m \u001b[38;5;167;01mAttributeError\u001b[39;00m(\u001b[38;5;124m\"\u001b[39m\u001b[38;5;124mCan only use .str accessor with string values!\u001b[39m\u001b[38;5;124m\"\u001b[39m)\n\u001b[0;32m   2158\u001b[0m \u001b[38;5;28;01mreturn\u001b[39;00m inferred_dtype\n",
      "\u001b[1;31mAttributeError\u001b[0m: Can only use .str accessor with string values!"
     ]
    }
   ],
   "source": [
    "# Fill missing values for categorical columns with mode\n",
    "Data[['Drive_Type', 'Steering_Type', 'Front_Brake_Type', 'Rear_Brake_Type', 'Engine_Type']] = Data[['Drive_Type', 'Steering_Type', 'Front_Brake_Type', 'Rear_Brake_Type', 'Engine_Type']].fillna(Data.mode().iloc[0])\n",
    "\n",
    "# Clean the 'Acceleration' column and convert it to numeric\n",
    "Data['Acceleration'] = pd.to_numeric(Data['Acceleration'].str.extract('(\\d+\\.?\\d*)')[0], errors='coerce')\n",
    "\n",
    "# Fill missing values for 'Acceleration' with median\n",
    "Data['Acceleration'].fillna(Data['Acceleration'].median(), inplace=True)\n",
    "\n",
    "# Verify if the missing values are filled\n",
    "print(Data[['Drive_Type', 'Steering_Type', 'Front_Brake_Type', 'Rear_Brake_Type', 'Engine_Type', 'Acceleration']].isnull().sum())\n"
   ]
  },
  {
   "cell_type": "markdown",
   "metadata": {},
   "source": [
    "From above we can see that there are no missing values:"
   ]
  },
  {
   "cell_type": "code",
   "execution_count": 253,
   "metadata": {},
   "outputs": [],
   "source": [
    "# 2. Convert Data Types\n",
    "Data['Make_Year'] = Data['Make_Year'].astype(int)  # Ensure Make_Year is int\n",
    "Data['Seats'] = Data['Seats'].astype(int)  # Ensure Seats is int"
   ]
  },
  {
   "cell_type": "code",
   "execution_count": 254,
   "metadata": {},
   "outputs": [
    {
     "name": "stdout",
     "output_type": "stream",
     "text": [
      "Total number of duplicate rows: 500\n"
     ]
    }
   ],
   "source": [
    "# Check for duplicates in the dataset\n",
    "duplicates = Data.duplicated().sum()\n",
    "\n",
    "# Display the result\n",
    "print(f'Total number of duplicate rows: {duplicates}')\n"
   ]
  },
  {
   "cell_type": "code",
   "execution_count": 255,
   "metadata": {},
   "outputs": [
    {
     "name": "stdout",
     "output_type": "stream",
     "text": [
      "   Make_Year  Car_Age\n",
      "0       2019        5\n",
      "1       2016        8\n",
      "2       2019        5\n",
      "3       2018        6\n",
      "4       2017        7\n"
     ]
    }
   ],
   "source": [
    "# Create a new column for the age of the car\n",
    "Data['Car_Age'] = 2024 - Data['Make_Year']  # Assuming current year is 2024\n",
    "\n",
    "# Display the first few rows to confirm the new column\n",
    "print(Data[['Make_Year', 'Car_Age']].head())\n"
   ]
  },
  {
   "cell_type": "code",
   "execution_count": 256,
   "metadata": {},
   "outputs": [
    {
     "name": "stdout",
     "output_type": "stream",
     "text": [
      "object\n",
      "int32\n"
     ]
    }
   ],
   "source": [
    "print(Data['Price'].dtype)\n",
    "print(Data['Car_Age'].dtype)\n"
   ]
  },
  {
   "cell_type": "code",
   "execution_count": 257,
   "metadata": {},
   "outputs": [
    {
     "name": "stdout",
     "output_type": "stream",
     "text": [
      "      Price  Car_Age  Price_per_Year\n",
      "0  680000.0        5   136000.000000\n",
      "1  470500.0        8    58812.500000\n",
      "2  675000.0        5   135000.000000\n",
      "3  600000.0        6   100000.000000\n",
      "4  610000.0        7    87142.857143\n"
     ]
    }
   ],
   "source": [
    "#This can help track how the price of a car depreciates annually, which is useful for price prediction models.\n",
    "\n",
    "# Ensure 'Price' column is treated as a string before replacing commas\n",
    "Data['Price'] = Data['Price'].astype(str)\n",
    "\n",
    "# Remove commas from the 'Price' column\n",
    "Data['Price'] = Data['Price'].replace({',': ''}, regex=True)\n",
    "\n",
    "# Convert 'Price' to numeric, coercing errors to NaN\n",
    "Data['Price'] = pd.to_numeric(Data['Price'], errors='coerce')\n",
    "\n",
    "# Convert 'Car_Age' to numeric, coercing errors to NaN\n",
    "Data['Car_Age'] = pd.to_numeric(Data['Car_Age'], errors='coerce')\n",
    "\n",
    "# Handle missing values by filling with median\n",
    "Data['Price'].fillna(Data['Price'].median(), inplace=True)\n",
    "Data['Car_Age'].fillna(Data['Car_Age'].median(), inplace=True)\n",
    "\n",
    "# Create the 'Price_per_Year' column\n",
    "Data['Price_per_Year'] = Data['Price'] / Data['Car_Age']\n",
    "print(Data[['Price', 'Car_Age', 'Price_per_Year']].head())\n"
   ]
  },
  {
   "cell_type": "code",
   "execution_count": 258,
   "metadata": {},
   "outputs": [
    {
     "name": "stdout",
     "output_type": "stream",
     "text": [
      "0    0.000007\n",
      "1    0.000011\n",
      "2    0.000007\n",
      "3    0.000008\n",
      "4    0.000008\n",
      "Name: Seats_to_Price, dtype: float64\n"
     ]
    }
   ],
   "source": [
    "#Seats to Price Ratio:. Sometimes the number of seats in a car can influence its price, so this ratio can provide more insight.\n",
    "Data['Seats_to_Price'] = Data['Seats'] / Data['Price']\n",
    "print(Data['Seats_to_Price'].head())\n"
   ]
  },
  {
   "cell_type": "code",
   "execution_count": 259,
   "metadata": {},
   "outputs": [
    {
     "data": {
      "text/plain": [
       "(10394, 24)"
      ]
     },
     "execution_count": 259,
     "metadata": {},
     "output_type": "execute_result"
    }
   ],
   "source": [
    "Data.shape"
   ]
  },
  {
   "cell_type": "code",
   "execution_count": 260,
   "metadata": {},
   "outputs": [
    {
     "data": {
      "text/plain": [
       "Index(['Unnamed: 0', 'Brand', 'Make_Year', 'Fuel', 'KMs_Driven',\n",
       "       'Engine_Displacement', 'No_Of_Owner', 'Transmission', 'Mileage',\n",
       "       'Max_Power', 'Torque', 'Seats', 'Color', 'Gear_Box', 'Drive_Type',\n",
       "       'Steering_Type', 'Front_Brake_Type', 'Rear_Brake_Type', 'Acceleration',\n",
       "       'Engine_Type', 'Price', 'Car_Age', 'Price_per_Year', 'Seats_to_Price'],\n",
       "      dtype='object')"
      ]
     },
     "execution_count": 260,
     "metadata": {},
     "output_type": "execute_result"
    }
   ],
   "source": [
    "#Check columns\n",
    "Data.columns"
   ]
  },
  {
   "cell_type": "code",
   "execution_count": 261,
   "metadata": {},
   "outputs": [],
   "source": [
    "categorical_columns = [\n",
    "    'Brand', 'Fuel', 'Transmission', 'Color', 'Gear_Box', 'Drive_Type',\n",
    "    'Steering_Type', 'Front_Brake_Type', 'Rear_Brake_Type', 'Engine_Type'\n",
    "]\n"
   ]
  },
  {
   "cell_type": "code",
   "execution_count": 262,
   "metadata": {},
   "outputs": [],
   "source": [
    "# Ensure the columns exist in the DataFrame before encoding\n",
    "available_columns = [col for col in categorical_columns if col in Data.columns]\n",
    "\n",
    "# Apply one-hot encoding\n",
    "Data = pd.get_dummies(Data, columns=available_columns, drop_first=True)\n"
   ]
  },
  {
   "cell_type": "code",
   "execution_count": 263,
   "metadata": {},
   "outputs": [
    {
     "data": {
      "text/plain": [
       "(10394, 2682)"
      ]
     },
     "execution_count": 263,
     "metadata": {},
     "output_type": "execute_result"
    }
   ],
   "source": [
    "Data.shape"
   ]
  },
  {
   "cell_type": "code",
   "execution_count": 270,
   "metadata": {},
   "outputs": [
    {
     "name": "stdout",
     "output_type": "stream",
     "text": [
      "Reduced Data Shape: (10394, 1)\n"
     ]
    }
   ],
   "source": [
    "import pandas as pd\n",
    "\n",
    "# Sample columns that may need conversion to numeric\n",
    "columns_to_clean = ['KMs_Driven']\n",
    "\n",
    "# Remove non-numeric characters and convert to numeric for specified columns\n",
    "for col in columns_to_clean:\n",
    "    if col in Data.columns:  # Ensure the column exists\n",
    "        # Remove commas and any trailing non-numeric text, then convert to numeric\n",
    "        Data[col] = Data[col].replace({',': '', '[^\\d.]': ''}, regex=True).astype(float)\n",
    "\n",
    "# Proceed with other transformations or PCA\n",
    "from sklearn.decomposition import PCA\n",
    "\n",
    "# Ensure no object (non-numeric) columns remain\n",
    "Data_numeric = Data.select_dtypes(include=[float, int])\n",
    "\n",
    "# Apply PCA\n",
    "pca = PCA(n_components=0.95, random_state=42)  # Retain 95% variance\n",
    "Data_reduced = pca.fit_transform(Data_numeric)\n",
    "\n",
    "print(\"Reduced Data Shape:\", Data_reduced.shape)\n"
   ]
  },
  {
   "cell_type": "markdown",
   "metadata": {},
   "source": [
    "This method is useful for checking and understanding the distribution of values in categorical columns, while also ensuring that each specified column exists in the dataset.\n",
    "\n",
    "\n",
    "\n",
    "\n",
    "\n",
    "\n"
   ]
  },
  {
   "cell_type": "code",
   "execution_count": 264,
   "metadata": {},
   "outputs": [
    {
     "name": "stdout",
     "output_type": "stream",
     "text": [
      "Original column names: Index(['Unnamed: 0', 'Make_Year', 'KMs_Driven', 'Engine_Displacement',\n",
      "       'No_Of_Owner', 'Mileage', 'Max_Power', 'Torque', 'Seats',\n",
      "       'Acceleration',\n",
      "       ...\n",
      "       'Engine_Type_mHawk 130 Engine', 'Engine_Type_mHawk 80 Diesel Engine',\n",
      "       'Engine_Type_mHawk CRDe Engine', 'Engine_Type_mHawk Diesel Engine',\n",
      "       'Engine_Type_mHawk155 Diesel Engine',\n",
      "       'Engine_Type_mStallion 150 TGDi Engine', 'Engine_Type_sDrive 18i',\n",
      "       'Engine_Type_sDrive20d Diesel Engine',\n",
      "       'Engine_Type_xDrive20d Diesel Engine',\n",
      "       'Engine_Type_xDrive30d Diesel Engine'],\n",
      "      dtype='object', length=2682)\n",
      "Cleaned column names: Index(['Unnamed: 0', 'Make_Year', 'KMs_Driven', 'Engine_Displacement',\n",
      "       'No_Of_Owner', 'Mileage', 'Max_Power', 'Torque', 'Seats',\n",
      "       'Acceleration',\n",
      "       ...\n",
      "       'Engine_Type_mHawk 130 Engine', 'Engine_Type_mHawk 80 Diesel Engine',\n",
      "       'Engine_Type_mHawk CRDe Engine', 'Engine_Type_mHawk Diesel Engine',\n",
      "       'Engine_Type_mHawk155 Diesel Engine',\n",
      "       'Engine_Type_mStallion 150 TGDi Engine', 'Engine_Type_sDrive 18i',\n",
      "       'Engine_Type_sDrive20d Diesel Engine',\n",
      "       'Engine_Type_xDrive20d Diesel Engine',\n",
      "       'Engine_Type_xDrive30d Diesel Engine'],\n",
      "      dtype='object', length=2682)\n",
      "Missing columns: ['Brand', 'Engine_Type', 'Fuel', 'Drive_Type', 'Color']\n"
     ]
    }
   ],
   "source": [
    "# Step 1: List the actual columns in your DataFrame\n",
    "print(\"Original column names:\", Data.columns)\n",
    "\n",
    "# Step 2: Clean column names by stripping extra spaces or hidden characters\n",
    "Data.columns = Data.columns.str.strip()\n",
    "print(\"Cleaned column names:\", Data.columns)\n",
    "\n",
    "# Step 3: Check for missing categorical columns\n",
    "categorical_columns = ['Brand', 'Engine_Type', 'Fuel', 'Drive_Type', 'Color']\n",
    "missing_columns = [col for col in categorical_columns if col not in Data.columns]\n",
    "\n",
    "if missing_columns:\n",
    "    print(f\"Missing columns: {missing_columns}\")\n",
    "else:\n",
    "    # Step 4: Apply get_dummies if all columns are present\n",
    "    Data = pd.get_dummies(Data, columns=categorical_columns, drop_first=True)\n",
    "    print(\"Shape after encoding:\", Data.shape)\n"
   ]
  },
  {
   "cell_type": "code",
   "execution_count": 265,
   "metadata": {},
   "outputs": [
    {
     "data": {
      "text/plain": [
       "(10394, 2682)"
      ]
     },
     "execution_count": 265,
     "metadata": {},
     "output_type": "execute_result"
    }
   ],
   "source": [
    "Data.shape"
   ]
  },
  {
   "cell_type": "code",
   "execution_count": 266,
   "metadata": {},
   "outputs": [
    {
     "name": "stdout",
     "output_type": "stream",
     "text": [
      "Data shape after encoding: (10394, 2682)\n"
     ]
    }
   ],
   "source": [
    "import pandas as pd\n",
    "from sklearn.preprocessing import LabelEncoder\n",
    "\n",
    "# List of categorical columns\n",
    "categorical_columns = ['Brand', 'Fuel', 'Transmission', 'Color', 'Gear_Box', 'Drive_Type', 'Steering_Type', \n",
    "                       'Front_Brake_Type', 'Rear_Brake_Type', 'Engine_Type']\n",
    "\n",
    "# Handle rare categories by grouping them into 'Other' for columns with many unique categories\n",
    "threshold = 10  # Set a threshold for the minimum occurrences\n",
    "\n",
    "for column in categorical_columns:\n",
    "    if column in Data.columns:\n",
    "        # Check if there are too many unique categories (i.e., more than 'threshold')\n",
    "        unique_counts = Data[column].value_counts()\n",
    "        \n",
    "        if unique_counts.nunique() > threshold:\n",
    "            rare_categories = unique_counts[unique_counts < threshold].index\n",
    "            Data[column] = Data[column].replace(rare_categories, 'Other')  # Replace rare categories with 'Other'\n",
    "            \n",
    "# Now apply Label Encoding for columns with fewer categories and One-Hot Encoding for others\n",
    "for column in categorical_columns:\n",
    "    if column in Data.columns:\n",
    "        if Data[column].nunique() <= threshold:  # Apply Label Encoding for fewer categories\n",
    "            label_encoder = LabelEncoder()\n",
    "            Data[column] = label_encoder.fit_transform(Data[column])\n",
    "        else:  # Apply One-Hot Encoding for many categories\n",
    "            Data = pd.get_dummies(Data, columns=[column], drop_first=True)\n",
    "\n",
    "# Check the shape of the DataFrame after encoding\n",
    "print(f\"Data shape after encoding: {Data.shape}\")\n"
   ]
  },
  {
   "cell_type": "markdown",
   "metadata": {},
   "source": [
    "#### Scaling the data Using StandardScaler"
   ]
  },
  {
   "cell_type": "code",
   "execution_count": 267,
   "metadata": {},
   "outputs": [],
   "source": [
    "# Dividing into Feature and Target data\n",
    "x=Data.drop(['Price'],axis=1)\n",
    "y=Data['Price']"
   ]
  },
  {
   "cell_type": "code",
   "execution_count": 268,
   "metadata": {},
   "outputs": [
    {
     "ename": "TypeError",
     "evalue": "Cannot compare types 'ndarray(dtype=float64)' and 'str'",
     "output_type": "error",
     "traceback": [
      "\u001b[1;31m---------------------------------------------------------------------------\u001b[0m",
      "\u001b[1;31mTypeError\u001b[0m                                 Traceback (most recent call last)",
      "Cell \u001b[1;32mIn [268], line 2\u001b[0m\n\u001b[0;32m      1\u001b[0m \u001b[38;5;66;03m# Remove commas from 'Price' column and convert it to numeric\u001b[39;00m\n\u001b[1;32m----> 2\u001b[0m Data[\u001b[38;5;124m'\u001b[39m\u001b[38;5;124mPrice\u001b[39m\u001b[38;5;124m'\u001b[39m] \u001b[38;5;241m=\u001b[39m \u001b[43mData\u001b[49m\u001b[43m[\u001b[49m\u001b[38;5;124;43m'\u001b[39;49m\u001b[38;5;124;43mPrice\u001b[39;49m\u001b[38;5;124;43m'\u001b[39;49m\u001b[43m]\u001b[49m\u001b[38;5;241;43m.\u001b[39;49m\u001b[43mreplace\u001b[49m\u001b[43m(\u001b[49m\u001b[43m{\u001b[49m\u001b[38;5;124;43m'\u001b[39;49m\u001b[38;5;124;43m,\u001b[39;49m\u001b[38;5;124;43m'\u001b[39;49m\u001b[43m:\u001b[49m\u001b[43m \u001b[49m\u001b[38;5;124;43m'\u001b[39;49m\u001b[38;5;124;43m'\u001b[39;49m\u001b[43m}\u001b[49m\u001b[43m,\u001b[49m\u001b[43m \u001b[49m\u001b[43mregex\u001b[49m\u001b[38;5;241;43m=\u001b[39;49m\u001b[38;5;28;43;01mTrue\u001b[39;49;00m\u001b[43m)\u001b[49m\u001b[38;5;241m.\u001b[39mastype(\u001b[38;5;28mfloat\u001b[39m)\n\u001b[0;32m      4\u001b[0m \u001b[38;5;66;03m# Check if the conversion was successful\u001b[39;00m\n\u001b[0;32m      5\u001b[0m \u001b[38;5;28mprint\u001b[39m(Data[\u001b[38;5;124m'\u001b[39m\u001b[38;5;124mPrice\u001b[39m\u001b[38;5;124m'\u001b[39m]\u001b[38;5;241m.\u001b[39mhead())\n",
      "File \u001b[1;32mc:\\Users\\Pamela Okinyo\\anaconda3\\envs\\learn-env\\lib\\site-packages\\pandas\\core\\series.py:4563\u001b[0m, in \u001b[0;36mSeries.replace\u001b[1;34m(self, to_replace, value, inplace, limit, regex, method)\u001b[0m\n\u001b[0;32m   4553\u001b[0m \u001b[38;5;129m@doc\u001b[39m(NDFrame\u001b[38;5;241m.\u001b[39mreplace, klass\u001b[38;5;241m=\u001b[39m_shared_doc_kwargs[\u001b[38;5;124m\"\u001b[39m\u001b[38;5;124mklass\u001b[39m\u001b[38;5;124m\"\u001b[39m])\n\u001b[0;32m   4554\u001b[0m \u001b[38;5;28;01mdef\u001b[39;00m \u001b[38;5;21mreplace\u001b[39m(\n\u001b[0;32m   4555\u001b[0m     \u001b[38;5;28mself\u001b[39m,\n\u001b[1;32m   (...)\u001b[0m\n\u001b[0;32m   4561\u001b[0m     method\u001b[38;5;241m=\u001b[39m\u001b[38;5;124m\"\u001b[39m\u001b[38;5;124mpad\u001b[39m\u001b[38;5;124m\"\u001b[39m,\n\u001b[0;32m   4562\u001b[0m ):\n\u001b[1;32m-> 4563\u001b[0m     \u001b[38;5;28;01mreturn\u001b[39;00m \u001b[38;5;28;43msuper\u001b[39;49m\u001b[43m(\u001b[49m\u001b[43m)\u001b[49m\u001b[38;5;241;43m.\u001b[39;49m\u001b[43mreplace\u001b[49m\u001b[43m(\u001b[49m\n\u001b[0;32m   4564\u001b[0m \u001b[43m        \u001b[49m\u001b[43mto_replace\u001b[49m\u001b[38;5;241;43m=\u001b[39;49m\u001b[43mto_replace\u001b[49m\u001b[43m,\u001b[49m\n\u001b[0;32m   4565\u001b[0m \u001b[43m        \u001b[49m\u001b[43mvalue\u001b[49m\u001b[38;5;241;43m=\u001b[39;49m\u001b[43mvalue\u001b[49m\u001b[43m,\u001b[49m\n\u001b[0;32m   4566\u001b[0m \u001b[43m        \u001b[49m\u001b[43minplace\u001b[49m\u001b[38;5;241;43m=\u001b[39;49m\u001b[43minplace\u001b[49m\u001b[43m,\u001b[49m\n\u001b[0;32m   4567\u001b[0m \u001b[43m        \u001b[49m\u001b[43mlimit\u001b[49m\u001b[38;5;241;43m=\u001b[39;49m\u001b[43mlimit\u001b[49m\u001b[43m,\u001b[49m\n\u001b[0;32m   4568\u001b[0m \u001b[43m        \u001b[49m\u001b[43mregex\u001b[49m\u001b[38;5;241;43m=\u001b[39;49m\u001b[43mregex\u001b[49m\u001b[43m,\u001b[49m\n\u001b[0;32m   4569\u001b[0m \u001b[43m        \u001b[49m\u001b[43mmethod\u001b[49m\u001b[38;5;241;43m=\u001b[39;49m\u001b[43mmethod\u001b[49m\u001b[43m,\u001b[49m\n\u001b[0;32m   4570\u001b[0m \u001b[43m    \u001b[49m\u001b[43m)\u001b[49m\n",
      "File \u001b[1;32mc:\\Users\\Pamela Okinyo\\anaconda3\\envs\\learn-env\\lib\\site-packages\\pandas\\core\\generic.py:6500\u001b[0m, in \u001b[0;36mNDFrame.replace\u001b[1;34m(self, to_replace, value, inplace, limit, regex, method)\u001b[0m\n\u001b[0;32m   6497\u001b[0m     \u001b[38;5;28;01melse\u001b[39;00m:\n\u001b[0;32m   6498\u001b[0m         to_replace, value \u001b[38;5;241m=\u001b[39m keys, values\n\u001b[1;32m-> 6500\u001b[0m     \u001b[38;5;28;01mreturn\u001b[39;00m \u001b[38;5;28;43mself\u001b[39;49m\u001b[38;5;241;43m.\u001b[39;49m\u001b[43mreplace\u001b[49m\u001b[43m(\u001b[49m\n\u001b[0;32m   6501\u001b[0m \u001b[43m        \u001b[49m\u001b[43mto_replace\u001b[49m\u001b[43m,\u001b[49m\u001b[43m \u001b[49m\u001b[43mvalue\u001b[49m\u001b[43m,\u001b[49m\u001b[43m \u001b[49m\u001b[43minplace\u001b[49m\u001b[38;5;241;43m=\u001b[39;49m\u001b[43minplace\u001b[49m\u001b[43m,\u001b[49m\u001b[43m \u001b[49m\u001b[43mlimit\u001b[49m\u001b[38;5;241;43m=\u001b[39;49m\u001b[43mlimit\u001b[49m\u001b[43m,\u001b[49m\u001b[43m \u001b[49m\u001b[43mregex\u001b[49m\u001b[38;5;241;43m=\u001b[39;49m\u001b[43mregex\u001b[49m\n\u001b[0;32m   6502\u001b[0m \u001b[43m    \u001b[49m\u001b[43m)\u001b[49m\n\u001b[0;32m   6503\u001b[0m \u001b[38;5;28;01melse\u001b[39;00m:\n\u001b[0;32m   6504\u001b[0m \n\u001b[0;32m   6505\u001b[0m     \u001b[38;5;66;03m# need a non-zero len on all axes\u001b[39;00m\n\u001b[0;32m   6506\u001b[0m     \u001b[38;5;28;01mif\u001b[39;00m \u001b[38;5;129;01mnot\u001b[39;00m \u001b[38;5;28mself\u001b[39m\u001b[38;5;241m.\u001b[39msize:\n",
      "File \u001b[1;32mc:\\Users\\Pamela Okinyo\\anaconda3\\envs\\learn-env\\lib\\site-packages\\pandas\\core\\series.py:4563\u001b[0m, in \u001b[0;36mSeries.replace\u001b[1;34m(self, to_replace, value, inplace, limit, regex, method)\u001b[0m\n\u001b[0;32m   4553\u001b[0m \u001b[38;5;129m@doc\u001b[39m(NDFrame\u001b[38;5;241m.\u001b[39mreplace, klass\u001b[38;5;241m=\u001b[39m_shared_doc_kwargs[\u001b[38;5;124m\"\u001b[39m\u001b[38;5;124mklass\u001b[39m\u001b[38;5;124m\"\u001b[39m])\n\u001b[0;32m   4554\u001b[0m \u001b[38;5;28;01mdef\u001b[39;00m \u001b[38;5;21mreplace\u001b[39m(\n\u001b[0;32m   4555\u001b[0m     \u001b[38;5;28mself\u001b[39m,\n\u001b[1;32m   (...)\u001b[0m\n\u001b[0;32m   4561\u001b[0m     method\u001b[38;5;241m=\u001b[39m\u001b[38;5;124m\"\u001b[39m\u001b[38;5;124mpad\u001b[39m\u001b[38;5;124m\"\u001b[39m,\n\u001b[0;32m   4562\u001b[0m ):\n\u001b[1;32m-> 4563\u001b[0m     \u001b[38;5;28;01mreturn\u001b[39;00m \u001b[38;5;28;43msuper\u001b[39;49m\u001b[43m(\u001b[49m\u001b[43m)\u001b[49m\u001b[38;5;241;43m.\u001b[39;49m\u001b[43mreplace\u001b[49m\u001b[43m(\u001b[49m\n\u001b[0;32m   4564\u001b[0m \u001b[43m        \u001b[49m\u001b[43mto_replace\u001b[49m\u001b[38;5;241;43m=\u001b[39;49m\u001b[43mto_replace\u001b[49m\u001b[43m,\u001b[49m\n\u001b[0;32m   4565\u001b[0m \u001b[43m        \u001b[49m\u001b[43mvalue\u001b[49m\u001b[38;5;241;43m=\u001b[39;49m\u001b[43mvalue\u001b[49m\u001b[43m,\u001b[49m\n\u001b[0;32m   4566\u001b[0m \u001b[43m        \u001b[49m\u001b[43minplace\u001b[49m\u001b[38;5;241;43m=\u001b[39;49m\u001b[43minplace\u001b[49m\u001b[43m,\u001b[49m\n\u001b[0;32m   4567\u001b[0m \u001b[43m        \u001b[49m\u001b[43mlimit\u001b[49m\u001b[38;5;241;43m=\u001b[39;49m\u001b[43mlimit\u001b[49m\u001b[43m,\u001b[49m\n\u001b[0;32m   4568\u001b[0m \u001b[43m        \u001b[49m\u001b[43mregex\u001b[49m\u001b[38;5;241;43m=\u001b[39;49m\u001b[43mregex\u001b[49m\u001b[43m,\u001b[49m\n\u001b[0;32m   4569\u001b[0m \u001b[43m        \u001b[49m\u001b[43mmethod\u001b[49m\u001b[38;5;241;43m=\u001b[39;49m\u001b[43mmethod\u001b[49m\u001b[43m,\u001b[49m\n\u001b[0;32m   4570\u001b[0m \u001b[43m    \u001b[49m\u001b[43m)\u001b[49m\n",
      "File \u001b[1;32mc:\\Users\\Pamela Okinyo\\anaconda3\\envs\\learn-env\\lib\\site-packages\\pandas\\core\\generic.py:6543\u001b[0m, in \u001b[0;36mNDFrame.replace\u001b[1;34m(self, to_replace, value, inplace, limit, regex, method)\u001b[0m\n\u001b[0;32m   6538\u001b[0m         \u001b[38;5;28;01mraise\u001b[39;00m \u001b[38;5;167;01mValueError\u001b[39;00m(\n\u001b[0;32m   6539\u001b[0m             \u001b[38;5;124mf\u001b[39m\u001b[38;5;124m\"\u001b[39m\u001b[38;5;124mReplacement lists must match in length. \u001b[39m\u001b[38;5;124m\"\u001b[39m\n\u001b[0;32m   6540\u001b[0m             \u001b[38;5;124mf\u001b[39m\u001b[38;5;124m\"\u001b[39m\u001b[38;5;124mExpecting \u001b[39m\u001b[38;5;132;01m{\u001b[39;00m\u001b[38;5;28mlen\u001b[39m(to_replace)\u001b[38;5;132;01m}\u001b[39;00m\u001b[38;5;124m got \u001b[39m\u001b[38;5;132;01m{\u001b[39;00m\u001b[38;5;28mlen\u001b[39m(value)\u001b[38;5;132;01m}\u001b[39;00m\u001b[38;5;124m \u001b[39m\u001b[38;5;124m\"\u001b[39m\n\u001b[0;32m   6541\u001b[0m         )\n\u001b[0;32m   6542\u001b[0m     \u001b[38;5;28mself\u001b[39m\u001b[38;5;241m.\u001b[39m_consolidate_inplace()\n\u001b[1;32m-> 6543\u001b[0m     new_data \u001b[38;5;241m=\u001b[39m \u001b[38;5;28;43mself\u001b[39;49m\u001b[38;5;241;43m.\u001b[39;49m\u001b[43m_mgr\u001b[49m\u001b[38;5;241;43m.\u001b[39;49m\u001b[43mreplace_list\u001b[49m\u001b[43m(\u001b[49m\n\u001b[0;32m   6544\u001b[0m \u001b[43m        \u001b[49m\u001b[43msrc_list\u001b[49m\u001b[38;5;241;43m=\u001b[39;49m\u001b[43mto_replace\u001b[49m\u001b[43m,\u001b[49m\n\u001b[0;32m   6545\u001b[0m \u001b[43m        \u001b[49m\u001b[43mdest_list\u001b[49m\u001b[38;5;241;43m=\u001b[39;49m\u001b[43mvalue\u001b[49m\u001b[43m,\u001b[49m\n\u001b[0;32m   6546\u001b[0m \u001b[43m        \u001b[49m\u001b[43minplace\u001b[49m\u001b[38;5;241;43m=\u001b[39;49m\u001b[43minplace\u001b[49m\u001b[43m,\u001b[49m\n\u001b[0;32m   6547\u001b[0m \u001b[43m        \u001b[49m\u001b[43mregex\u001b[49m\u001b[38;5;241;43m=\u001b[39;49m\u001b[43mregex\u001b[49m\u001b[43m,\u001b[49m\n\u001b[0;32m   6548\u001b[0m \u001b[43m    \u001b[49m\u001b[43m)\u001b[49m\n\u001b[0;32m   6550\u001b[0m \u001b[38;5;28;01melse\u001b[39;00m:  \u001b[38;5;66;03m# [NA, ''] -> 0\u001b[39;00m\n\u001b[0;32m   6551\u001b[0m     new_data \u001b[38;5;241m=\u001b[39m \u001b[38;5;28mself\u001b[39m\u001b[38;5;241m.\u001b[39m_mgr\u001b[38;5;241m.\u001b[39mreplace(\n\u001b[0;32m   6552\u001b[0m         to_replace\u001b[38;5;241m=\u001b[39mto_replace, value\u001b[38;5;241m=\u001b[39mvalue, inplace\u001b[38;5;241m=\u001b[39minplace, regex\u001b[38;5;241m=\u001b[39mregex\n\u001b[0;32m   6553\u001b[0m     )\n",
      "File \u001b[1;32mc:\\Users\\Pamela Okinyo\\anaconda3\\envs\\learn-env\\lib\\site-packages\\pandas\\core\\internals\\managers.py:642\u001b[0m, in \u001b[0;36mBlockManager.replace_list\u001b[1;34m(self, src_list, dest_list, inplace, regex)\u001b[0m\n\u001b[0;32m    638\u001b[0m \u001b[38;5;66;03m# Calculate the mask once, prior to the call of comp\u001b[39;00m\n\u001b[0;32m    639\u001b[0m \u001b[38;5;66;03m# in order to avoid repeating the same computations\u001b[39;00m\n\u001b[0;32m    640\u001b[0m mask \u001b[38;5;241m=\u001b[39m \u001b[38;5;241m~\u001b[39misna(values)\n\u001b[1;32m--> 642\u001b[0m masks \u001b[38;5;241m=\u001b[39m [comp(s, mask, regex) \u001b[38;5;28;01mfor\u001b[39;00m s \u001b[38;5;129;01min\u001b[39;00m src_list]\n\u001b[0;32m    644\u001b[0m result_blocks \u001b[38;5;241m=\u001b[39m []\n\u001b[0;32m    645\u001b[0m src_len \u001b[38;5;241m=\u001b[39m \u001b[38;5;28mlen\u001b[39m(src_list) \u001b[38;5;241m-\u001b[39m \u001b[38;5;241m1\u001b[39m\n",
      "File \u001b[1;32mc:\\Users\\Pamela Okinyo\\anaconda3\\envs\\learn-env\\lib\\site-packages\\pandas\\core\\internals\\managers.py:642\u001b[0m, in \u001b[0;36m<listcomp>\u001b[1;34m(.0)\u001b[0m\n\u001b[0;32m    638\u001b[0m \u001b[38;5;66;03m# Calculate the mask once, prior to the call of comp\u001b[39;00m\n\u001b[0;32m    639\u001b[0m \u001b[38;5;66;03m# in order to avoid repeating the same computations\u001b[39;00m\n\u001b[0;32m    640\u001b[0m mask \u001b[38;5;241m=\u001b[39m \u001b[38;5;241m~\u001b[39misna(values)\n\u001b[1;32m--> 642\u001b[0m masks \u001b[38;5;241m=\u001b[39m [\u001b[43mcomp\u001b[49m\u001b[43m(\u001b[49m\u001b[43ms\u001b[49m\u001b[43m,\u001b[49m\u001b[43m \u001b[49m\u001b[43mmask\u001b[49m\u001b[43m,\u001b[49m\u001b[43m \u001b[49m\u001b[43mregex\u001b[49m\u001b[43m)\u001b[49m \u001b[38;5;28;01mfor\u001b[39;00m s \u001b[38;5;129;01min\u001b[39;00m src_list]\n\u001b[0;32m    644\u001b[0m result_blocks \u001b[38;5;241m=\u001b[39m []\n\u001b[0;32m    645\u001b[0m src_len \u001b[38;5;241m=\u001b[39m \u001b[38;5;28mlen\u001b[39m(src_list) \u001b[38;5;241m-\u001b[39m \u001b[38;5;241m1\u001b[39m\n",
      "File \u001b[1;32mc:\\Users\\Pamela Okinyo\\anaconda3\\envs\\learn-env\\lib\\site-packages\\pandas\\core\\internals\\managers.py:636\u001b[0m, in \u001b[0;36mBlockManager.replace_list.<locals>.comp\u001b[1;34m(s, mask, regex)\u001b[0m\n\u001b[0;32m    633\u001b[0m     \u001b[38;5;28;01mreturn\u001b[39;00m \u001b[38;5;241m~\u001b[39mmask\n\u001b[0;32m    635\u001b[0m s \u001b[38;5;241m=\u001b[39m com\u001b[38;5;241m.\u001b[39mmaybe_box_datetimelike(s)\n\u001b[1;32m--> 636\u001b[0m \u001b[38;5;28;01mreturn\u001b[39;00m \u001b[43m_compare_or_regex_search\u001b[49m\u001b[43m(\u001b[49m\u001b[43mvalues\u001b[49m\u001b[43m,\u001b[49m\u001b[43m \u001b[49m\u001b[43ms\u001b[49m\u001b[43m,\u001b[49m\u001b[43m \u001b[49m\u001b[43mregex\u001b[49m\u001b[43m,\u001b[49m\u001b[43m \u001b[49m\u001b[43mmask\u001b[49m\u001b[43m)\u001b[49m\n",
      "File \u001b[1;32mc:\\Users\\Pamela Okinyo\\anaconda3\\envs\\learn-env\\lib\\site-packages\\pandas\\core\\internals\\managers.py:1992\u001b[0m, in \u001b[0;36m_compare_or_regex_search\u001b[1;34m(a, b, regex, mask)\u001b[0m\n\u001b[0;32m   1988\u001b[0m     a \u001b[38;5;241m=\u001b[39m a[mask]\n\u001b[0;32m   1990\u001b[0m \u001b[38;5;28;01mif\u001b[39;00m is_datetimelike_v_numeric(a, b) \u001b[38;5;129;01mor\u001b[39;00m is_numeric_v_string_like(a, b):\n\u001b[0;32m   1991\u001b[0m     \u001b[38;5;66;03m# GH#29553 avoid deprecation warnings from numpy\u001b[39;00m\n\u001b[1;32m-> 1992\u001b[0m     \u001b[43m_check_comparison_types\u001b[49m\u001b[43m(\u001b[49m\u001b[38;5;28;43;01mFalse\u001b[39;49;00m\u001b[43m,\u001b[49m\u001b[43m \u001b[49m\u001b[43ma\u001b[49m\u001b[43m,\u001b[49m\u001b[43m \u001b[49m\u001b[43mb\u001b[49m\u001b[43m)\u001b[49m\n\u001b[0;32m   1993\u001b[0m     \u001b[38;5;28;01mreturn\u001b[39;00m \u001b[38;5;28;01mFalse\u001b[39;00m\n\u001b[0;32m   1995\u001b[0m result \u001b[38;5;241m=\u001b[39m op(a)\n",
      "File \u001b[1;32mc:\\Users\\Pamela Okinyo\\anaconda3\\envs\\learn-env\\lib\\site-packages\\pandas\\core\\internals\\managers.py:1971\u001b[0m, in \u001b[0;36m_compare_or_regex_search.<locals>._check_comparison_types\u001b[1;34m(result, a, b)\u001b[0m\n\u001b[0;32m   1968\u001b[0m \u001b[38;5;28;01mif\u001b[39;00m \u001b[38;5;28misinstance\u001b[39m(a, np\u001b[38;5;241m.\u001b[39mndarray):\n\u001b[0;32m   1969\u001b[0m     type_names[\u001b[38;5;241m0\u001b[39m] \u001b[38;5;241m=\u001b[39m \u001b[38;5;124mf\u001b[39m\u001b[38;5;124m\"\u001b[39m\u001b[38;5;124mndarray(dtype=\u001b[39m\u001b[38;5;132;01m{\u001b[39;00ma\u001b[38;5;241m.\u001b[39mdtype\u001b[38;5;132;01m}\u001b[39;00m\u001b[38;5;124m)\u001b[39m\u001b[38;5;124m\"\u001b[39m\n\u001b[1;32m-> 1971\u001b[0m \u001b[38;5;28;01mraise\u001b[39;00m \u001b[38;5;167;01mTypeError\u001b[39;00m(\n\u001b[0;32m   1972\u001b[0m     \u001b[38;5;124mf\u001b[39m\u001b[38;5;124m\"\u001b[39m\u001b[38;5;124mCannot compare types \u001b[39m\u001b[38;5;132;01m{\u001b[39;00m\u001b[38;5;28mrepr\u001b[39m(type_names[\u001b[38;5;241m0\u001b[39m])\u001b[38;5;132;01m}\u001b[39;00m\u001b[38;5;124m and \u001b[39m\u001b[38;5;132;01m{\u001b[39;00m\u001b[38;5;28mrepr\u001b[39m(type_names[\u001b[38;5;241m1\u001b[39m])\u001b[38;5;132;01m}\u001b[39;00m\u001b[38;5;124m\"\u001b[39m\n\u001b[0;32m   1973\u001b[0m )\n",
      "\u001b[1;31mTypeError\u001b[0m: Cannot compare types 'ndarray(dtype=float64)' and 'str'"
     ]
    }
   ],
   "source": [
    "# Remove commas from 'Price' column and convert it to numeric\n",
    "Data['Price'] = Data['Price'].replace({',': ''}, regex=True).astype(float)\n",
    "\n",
    "# Check if the conversion was successful\n",
    "print(Data['Price'].head())\n",
    "\n",
    "# Now scale the selected columns: 'Price', 'Car_Age', 'KMs_Driven'\n",
    "scaler = MinMaxScaler()\n",
    "Data[['Price', 'Car_Age', 'KMs_Driven']] = scaler.fit_transform(Data[['Price', 'Car_Age', 'KMs_Driven']])\n",
    "\n",
    "# Verify the result\n",
    "print(Data[['Price', 'Car_Age', 'KMs_Driven']].head())\n"
   ]
  },
  {
   "cell_type": "code",
   "execution_count": 40,
   "metadata": {},
   "outputs": [],
   "source": [
    "# 5. Normalization/Standardization\n",
    "# Converting 'KMs_Driven' to string, remove non-numeric characters, replace empty strings with NaN, then convert to float\n",
    "Data['KMs_Driven'] = (\n",
    "    Data['KMs_Driven']\n",
    "    .astype(str)\n",
    "    .str.replace(r'\\D', '', regex=True)\n",
    "    .replace('', float('nan'))  # Replace empty strings with NaN\n",
    "    .astype(float)  # Convert to float\n",
    ")\n",
    "\n",
    "# Optionally, handle NaN values if needed (e.g., filling with the mean or dropping them)\n",
    "Data['KMs_Driven'].fillna(Data['KMs_Driven'].mean(), inplace=True)  # Fill NaNs with mean value\n",
    "\n"
   ]
  },
  {
   "cell_type": "code",
   "execution_count": 41,
   "metadata": {},
   "outputs": [],
   "source": [
    "# 6. Drop Empty Columns\n",
    "Data = Data.dropna(axis=1, how='all')"
   ]
  },
  {
   "cell_type": "code",
   "execution_count": 49,
   "metadata": {},
   "outputs": [
    {
     "data": {
      "text/plain": [
       "(5197, 2273)"
      ]
     },
     "execution_count": 49,
     "metadata": {},
     "output_type": "execute_result"
    }
   ],
   "source": [
    "Data.shape"
   ]
  },
  {
   "cell_type": "code",
   "execution_count": 42,
   "metadata": {},
   "outputs": [],
   "source": [
    "def preprocess_data(Data):\n",
    "    # Define categorical columns to encode\n",
    "    categorical_columns = ['Brand', 'Fuel', 'Transmission', 'Color']\n",
    "    \n",
    "    # Filter out columns that are missing from the data\n",
    "    available_columns = [col for col in categorical_columns if col in Data.columns]\n",
    "    missing_columns = [col for col in categorical_columns if col not in Data.columns]\n",
    "    \n",
    "    # Warn if any expected columns are missing\n",
    "    if missing_columns:\n",
    "        print(f\"Warning: The following columns are missing and will not be encoded: {missing_columns}\")\n",
    "    \n",
    "    # Apply one-hot encoding only to available categorical columns\n",
    "    if available_columns:\n",
    "        Data = pd.get_dummies(Data, columns=available_columns, drop_first=True)\n",
    "    \n",
    "    return Data\n"
   ]
  },
  {
   "cell_type": "code",
   "execution_count": 43,
   "metadata": {},
   "outputs": [],
   "source": [
    "# Apply preprocessing to the DataFrame\n",
    "Data = preprocess_data(Data)\n"
   ]
  },
  {
   "cell_type": "code",
   "execution_count": 44,
   "metadata": {},
   "outputs": [
    {
     "data": {
      "text/html": [
       "<div>\n",
       "<style scoped>\n",
       "    .dataframe tbody tr th:only-of-type {\n",
       "        vertical-align: middle;\n",
       "    }\n",
       "\n",
       "    .dataframe tbody tr th {\n",
       "        vertical-align: top;\n",
       "    }\n",
       "\n",
       "    .dataframe thead th {\n",
       "        text-align: right;\n",
       "    }\n",
       "</style>\n",
       "<table border=\"1\" class=\"dataframe\">\n",
       "  <thead>\n",
       "    <tr style=\"text-align: right;\">\n",
       "      <th></th>\n",
       "      <th>Unnamed: 0</th>\n",
       "      <th>Make_Year</th>\n",
       "      <th>KMs_Driven</th>\n",
       "      <th>Engine_Displacement</th>\n",
       "      <th>No_Of_Owner</th>\n",
       "      <th>Mileage</th>\n",
       "      <th>Max_Power</th>\n",
       "      <th>Torque</th>\n",
       "      <th>Seats</th>\n",
       "      <th>Gear_Box</th>\n",
       "      <th>...</th>\n",
       "      <th>Color_garnite grey</th>\n",
       "      <th>Color_golden brown</th>\n",
       "      <th>Color_granite cystal metallic clearcoat</th>\n",
       "      <th>Color_metallic grey</th>\n",
       "      <th>Color_midnight blue</th>\n",
       "      <th>Color_modern steel</th>\n",
       "      <th>Color_nexa blue</th>\n",
       "      <th>Color_rayol gold</th>\n",
       "      <th>Color_star dust</th>\n",
       "      <th>Color_titanium metalic</th>\n",
       "    </tr>\n",
       "  </thead>\n",
       "  <tbody>\n",
       "    <tr>\n",
       "      <th>0</th>\n",
       "      <td>0</td>\n",
       "      <td>2019</td>\n",
       "      <td>11935.0</td>\n",
       "      <td>1197 cc</td>\n",
       "      <td>1st Owner</td>\n",
       "      <td>21.21 kmpl</td>\n",
       "      <td>81.80bhp</td>\n",
       "      <td>113Nm</td>\n",
       "      <td>5</td>\n",
       "      <td>5 Speed</td>\n",
       "      <td>...</td>\n",
       "      <td>0</td>\n",
       "      <td>0</td>\n",
       "      <td>0</td>\n",
       "      <td>0</td>\n",
       "      <td>0</td>\n",
       "      <td>0</td>\n",
       "      <td>0</td>\n",
       "      <td>0</td>\n",
       "      <td>0</td>\n",
       "      <td>0</td>\n",
       "    </tr>\n",
       "    <tr>\n",
       "      <th>1</th>\n",
       "      <td>1</td>\n",
       "      <td>2016</td>\n",
       "      <td>74555.0</td>\n",
       "      <td>1461 cc</td>\n",
       "      <td>2nd Owner</td>\n",
       "      <td>20.45 kmpl</td>\n",
       "      <td>83.8bhp</td>\n",
       "      <td>200Nm</td>\n",
       "      <td>5</td>\n",
       "      <td>5 Speed</td>\n",
       "      <td>...</td>\n",
       "      <td>0</td>\n",
       "      <td>0</td>\n",
       "      <td>0</td>\n",
       "      <td>0</td>\n",
       "      <td>0</td>\n",
       "      <td>0</td>\n",
       "      <td>0</td>\n",
       "      <td>0</td>\n",
       "      <td>0</td>\n",
       "      <td>0</td>\n",
       "    </tr>\n",
       "    <tr>\n",
       "      <th>2</th>\n",
       "      <td>2</td>\n",
       "      <td>2019</td>\n",
       "      <td>9379.0</td>\n",
       "      <td>1197 cc</td>\n",
       "      <td>1st Owner</td>\n",
       "      <td>21.21 kmpl</td>\n",
       "      <td>81.80bhp</td>\n",
       "      <td>113Nm</td>\n",
       "      <td>5</td>\n",
       "      <td>5 Speed</td>\n",
       "      <td>...</td>\n",
       "      <td>0</td>\n",
       "      <td>0</td>\n",
       "      <td>0</td>\n",
       "      <td>0</td>\n",
       "      <td>0</td>\n",
       "      <td>0</td>\n",
       "      <td>0</td>\n",
       "      <td>0</td>\n",
       "      <td>0</td>\n",
       "      <td>0</td>\n",
       "    </tr>\n",
       "    <tr>\n",
       "      <th>3</th>\n",
       "      <td>3</td>\n",
       "      <td>2018</td>\n",
       "      <td>31824.0</td>\n",
       "      <td>1248 cc</td>\n",
       "      <td>1st Owner</td>\n",
       "      <td>28.4 kmpl</td>\n",
       "      <td>74bhp</td>\n",
       "      <td>190Nm</td>\n",
       "      <td>5</td>\n",
       "      <td>5</td>\n",
       "      <td>...</td>\n",
       "      <td>0</td>\n",
       "      <td>0</td>\n",
       "      <td>0</td>\n",
       "      <td>0</td>\n",
       "      <td>0</td>\n",
       "      <td>0</td>\n",
       "      <td>0</td>\n",
       "      <td>0</td>\n",
       "      <td>0</td>\n",
       "      <td>0</td>\n",
       "    </tr>\n",
       "    <tr>\n",
       "      <th>4</th>\n",
       "      <td>4</td>\n",
       "      <td>2017</td>\n",
       "      <td>49072.0</td>\n",
       "      <td>1197 cc</td>\n",
       "      <td>1st Owner</td>\n",
       "      <td>21.01 kmpl</td>\n",
       "      <td>81.80bhp</td>\n",
       "      <td>113Nm</td>\n",
       "      <td>5</td>\n",
       "      <td>5 Speed</td>\n",
       "      <td>...</td>\n",
       "      <td>0</td>\n",
       "      <td>0</td>\n",
       "      <td>0</td>\n",
       "      <td>0</td>\n",
       "      <td>0</td>\n",
       "      <td>0</td>\n",
       "      <td>0</td>\n",
       "      <td>0</td>\n",
       "      <td>0</td>\n",
       "      <td>0</td>\n",
       "    </tr>\n",
       "  </tbody>\n",
       "</table>\n",
       "<p>5 rows × 2273 columns</p>\n",
       "</div>"
      ],
      "text/plain": [
       "   Unnamed: 0  Make_Year  KMs_Driven Engine_Displacement No_Of_Owner  \\\n",
       "0           0       2019     11935.0             1197 cc   1st Owner   \n",
       "1           1       2016     74555.0             1461 cc   2nd Owner   \n",
       "2           2       2019      9379.0             1197 cc   1st Owner   \n",
       "3           3       2018     31824.0             1248 cc   1st Owner   \n",
       "4           4       2017     49072.0             1197 cc   1st Owner   \n",
       "\n",
       "      Mileage Max_Power Torque  Seats Gear_Box  ... Color_garnite grey  \\\n",
       "0  21.21 kmpl  81.80bhp  113Nm      5  5 Speed  ...                  0   \n",
       "1  20.45 kmpl   83.8bhp  200Nm      5  5 Speed  ...                  0   \n",
       "2  21.21 kmpl  81.80bhp  113Nm      5  5 Speed  ...                  0   \n",
       "3   28.4 kmpl     74bhp  190Nm      5        5  ...                  0   \n",
       "4  21.01 kmpl  81.80bhp  113Nm      5  5 Speed  ...                  0   \n",
       "\n",
       "  Color_golden brown Color_granite cystal metallic clearcoat  \\\n",
       "0                  0                                       0   \n",
       "1                  0                                       0   \n",
       "2                  0                                       0   \n",
       "3                  0                                       0   \n",
       "4                  0                                       0   \n",
       "\n",
       "  Color_metallic grey Color_midnight blue Color_modern steel Color_nexa blue  \\\n",
       "0                   0                   0                  0               0   \n",
       "1                   0                   0                  0               0   \n",
       "2                   0                   0                  0               0   \n",
       "3                   0                   0                  0               0   \n",
       "4                   0                   0                  0               0   \n",
       "\n",
       "   Color_rayol gold  Color_star dust  Color_titanium metalic  \n",
       "0                 0                0                       0  \n",
       "1                 0                0                       0  \n",
       "2                 0                0                       0  \n",
       "3                 0                0                       0  \n",
       "4                 0                0                       0  \n",
       "\n",
       "[5 rows x 2273 columns]"
      ]
     },
     "execution_count": 44,
     "metadata": {},
     "output_type": "execute_result"
    }
   ],
   "source": [
    "# Display the preprocessed DataFrame\n",
    "Data.head()"
   ]
  },
  {
   "cell_type": "code",
   "execution_count": 45,
   "metadata": {},
   "outputs": [],
   "source": [
    "# Drops columns that are entirely NaN\n",
    "Data = Data.dropna(axis=1, how='all')\n"
   ]
  },
  {
   "cell_type": "code",
   "execution_count": 46,
   "metadata": {},
   "outputs": [
    {
     "data": {
      "text/html": [
       "<div>\n",
       "<style scoped>\n",
       "    .dataframe tbody tr th:only-of-type {\n",
       "        vertical-align: middle;\n",
       "    }\n",
       "\n",
       "    .dataframe tbody tr th {\n",
       "        vertical-align: top;\n",
       "    }\n",
       "\n",
       "    .dataframe thead th {\n",
       "        text-align: right;\n",
       "    }\n",
       "</style>\n",
       "<table border=\"1\" class=\"dataframe\">\n",
       "  <thead>\n",
       "    <tr style=\"text-align: right;\">\n",
       "      <th></th>\n",
       "      <th>Unnamed: 0</th>\n",
       "      <th>Make_Year</th>\n",
       "      <th>KMs_Driven</th>\n",
       "      <th>Engine_Displacement</th>\n",
       "      <th>No_Of_Owner</th>\n",
       "      <th>Mileage</th>\n",
       "      <th>Max_Power</th>\n",
       "      <th>Torque</th>\n",
       "      <th>Seats</th>\n",
       "      <th>Gear_Box</th>\n",
       "      <th>...</th>\n",
       "      <th>Color_garnite grey</th>\n",
       "      <th>Color_golden brown</th>\n",
       "      <th>Color_granite cystal metallic clearcoat</th>\n",
       "      <th>Color_metallic grey</th>\n",
       "      <th>Color_midnight blue</th>\n",
       "      <th>Color_modern steel</th>\n",
       "      <th>Color_nexa blue</th>\n",
       "      <th>Color_rayol gold</th>\n",
       "      <th>Color_star dust</th>\n",
       "      <th>Color_titanium metalic</th>\n",
       "    </tr>\n",
       "  </thead>\n",
       "  <tbody>\n",
       "    <tr>\n",
       "      <th>0</th>\n",
       "      <td>0</td>\n",
       "      <td>2019</td>\n",
       "      <td>11935.0</td>\n",
       "      <td>1197 cc</td>\n",
       "      <td>1st Owner</td>\n",
       "      <td>21.21 kmpl</td>\n",
       "      <td>81.80bhp</td>\n",
       "      <td>113Nm</td>\n",
       "      <td>5</td>\n",
       "      <td>5 Speed</td>\n",
       "      <td>...</td>\n",
       "      <td>0</td>\n",
       "      <td>0</td>\n",
       "      <td>0</td>\n",
       "      <td>0</td>\n",
       "      <td>0</td>\n",
       "      <td>0</td>\n",
       "      <td>0</td>\n",
       "      <td>0</td>\n",
       "      <td>0</td>\n",
       "      <td>0</td>\n",
       "    </tr>\n",
       "    <tr>\n",
       "      <th>1</th>\n",
       "      <td>1</td>\n",
       "      <td>2016</td>\n",
       "      <td>74555.0</td>\n",
       "      <td>1461 cc</td>\n",
       "      <td>2nd Owner</td>\n",
       "      <td>20.45 kmpl</td>\n",
       "      <td>83.8bhp</td>\n",
       "      <td>200Nm</td>\n",
       "      <td>5</td>\n",
       "      <td>5 Speed</td>\n",
       "      <td>...</td>\n",
       "      <td>0</td>\n",
       "      <td>0</td>\n",
       "      <td>0</td>\n",
       "      <td>0</td>\n",
       "      <td>0</td>\n",
       "      <td>0</td>\n",
       "      <td>0</td>\n",
       "      <td>0</td>\n",
       "      <td>0</td>\n",
       "      <td>0</td>\n",
       "    </tr>\n",
       "    <tr>\n",
       "      <th>2</th>\n",
       "      <td>2</td>\n",
       "      <td>2019</td>\n",
       "      <td>9379.0</td>\n",
       "      <td>1197 cc</td>\n",
       "      <td>1st Owner</td>\n",
       "      <td>21.21 kmpl</td>\n",
       "      <td>81.80bhp</td>\n",
       "      <td>113Nm</td>\n",
       "      <td>5</td>\n",
       "      <td>5 Speed</td>\n",
       "      <td>...</td>\n",
       "      <td>0</td>\n",
       "      <td>0</td>\n",
       "      <td>0</td>\n",
       "      <td>0</td>\n",
       "      <td>0</td>\n",
       "      <td>0</td>\n",
       "      <td>0</td>\n",
       "      <td>0</td>\n",
       "      <td>0</td>\n",
       "      <td>0</td>\n",
       "    </tr>\n",
       "    <tr>\n",
       "      <th>3</th>\n",
       "      <td>3</td>\n",
       "      <td>2018</td>\n",
       "      <td>31824.0</td>\n",
       "      <td>1248 cc</td>\n",
       "      <td>1st Owner</td>\n",
       "      <td>28.4 kmpl</td>\n",
       "      <td>74bhp</td>\n",
       "      <td>190Nm</td>\n",
       "      <td>5</td>\n",
       "      <td>5</td>\n",
       "      <td>...</td>\n",
       "      <td>0</td>\n",
       "      <td>0</td>\n",
       "      <td>0</td>\n",
       "      <td>0</td>\n",
       "      <td>0</td>\n",
       "      <td>0</td>\n",
       "      <td>0</td>\n",
       "      <td>0</td>\n",
       "      <td>0</td>\n",
       "      <td>0</td>\n",
       "    </tr>\n",
       "    <tr>\n",
       "      <th>4</th>\n",
       "      <td>4</td>\n",
       "      <td>2017</td>\n",
       "      <td>49072.0</td>\n",
       "      <td>1197 cc</td>\n",
       "      <td>1st Owner</td>\n",
       "      <td>21.01 kmpl</td>\n",
       "      <td>81.80bhp</td>\n",
       "      <td>113Nm</td>\n",
       "      <td>5</td>\n",
       "      <td>5 Speed</td>\n",
       "      <td>...</td>\n",
       "      <td>0</td>\n",
       "      <td>0</td>\n",
       "      <td>0</td>\n",
       "      <td>0</td>\n",
       "      <td>0</td>\n",
       "      <td>0</td>\n",
       "      <td>0</td>\n",
       "      <td>0</td>\n",
       "      <td>0</td>\n",
       "      <td>0</td>\n",
       "    </tr>\n",
       "  </tbody>\n",
       "</table>\n",
       "<p>5 rows × 2273 columns</p>\n",
       "</div>"
      ],
      "text/plain": [
       "   Unnamed: 0  Make_Year  KMs_Driven Engine_Displacement No_Of_Owner  \\\n",
       "0           0       2019     11935.0             1197 cc   1st Owner   \n",
       "1           1       2016     74555.0             1461 cc   2nd Owner   \n",
       "2           2       2019      9379.0             1197 cc   1st Owner   \n",
       "3           3       2018     31824.0             1248 cc   1st Owner   \n",
       "4           4       2017     49072.0             1197 cc   1st Owner   \n",
       "\n",
       "      Mileage Max_Power Torque  Seats Gear_Box  ... Color_garnite grey  \\\n",
       "0  21.21 kmpl  81.80bhp  113Nm      5  5 Speed  ...                  0   \n",
       "1  20.45 kmpl   83.8bhp  200Nm      5  5 Speed  ...                  0   \n",
       "2  21.21 kmpl  81.80bhp  113Nm      5  5 Speed  ...                  0   \n",
       "3   28.4 kmpl     74bhp  190Nm      5        5  ...                  0   \n",
       "4  21.01 kmpl  81.80bhp  113Nm      5  5 Speed  ...                  0   \n",
       "\n",
       "  Color_golden brown Color_granite cystal metallic clearcoat  \\\n",
       "0                  0                                       0   \n",
       "1                  0                                       0   \n",
       "2                  0                                       0   \n",
       "3                  0                                       0   \n",
       "4                  0                                       0   \n",
       "\n",
       "  Color_metallic grey Color_midnight blue Color_modern steel Color_nexa blue  \\\n",
       "0                   0                   0                  0               0   \n",
       "1                   0                   0                  0               0   \n",
       "2                   0                   0                  0               0   \n",
       "3                   0                   0                  0               0   \n",
       "4                   0                   0                  0               0   \n",
       "\n",
       "   Color_rayol gold  Color_star dust  Color_titanium metalic  \n",
       "0                 0                0                       0  \n",
       "1                 0                0                       0  \n",
       "2                 0                0                       0  \n",
       "3                 0                0                       0  \n",
       "4                 0                0                       0  \n",
       "\n",
       "[5 rows x 2273 columns]"
      ]
     },
     "execution_count": 46,
     "metadata": {},
     "output_type": "execute_result"
    }
   ],
   "source": [
    "Data.head()"
   ]
  },
  {
   "cell_type": "markdown",
   "metadata": {},
   "source": [
    "2. ***Modeling***"
   ]
  },
  {
   "cell_type": "markdown",
   "metadata": {},
   "source": [
    "1. **Modeling for Optimal Pricing (Regression)**\n",
    "\n",
    "\n",
    "To predict the optimal price for a used car based on features such as Brand, Model, KMs_Driven, Make_Year, and more.\n",
    "\n",
    "Steps:\n",
    "\n",
    "*Feature Selection:* Choose relevant features for pricing prediction (you might want to remove highly correlated features or irrelevant columns).\n",
    "\n",
    "*Splitting Data:* Splitting data into training and test sets (typically an 80/20 or 70/30 split).\n",
    "\n",
    "*Modeling:* Starting with a basic regression model and gradually improve it.\n",
    "\n",
    "*Linear Regression:* Formulate a good baseline to understand relationships between variables.\n",
    "\n",
    "*Random Forest/Decision Trees:* For capturing non-linear relationships.\n",
    "\n",
    "*XGBoost/LightGBM:* More advanced model to handle complex data well and often give better results.\n",
    "\n",
    "*Evaluation:* Use of metrics like Mean Absolute Error (MAE), Mean Squared Error (MSE), and R² to evaluate the model's performance."
   ]
  }
 ],
 "metadata": {
  "kernelspec": {
   "display_name": "learn-env",
   "language": "python",
   "name": "python3"
  },
  "language_info": {
   "codemirror_mode": {
    "name": "ipython",
    "version": 3
   },
   "file_extension": ".py",
   "mimetype": "text/x-python",
   "name": "python",
   "nbconvert_exporter": "python",
   "pygments_lexer": "ipython3",
   "version": "3.8.12"
  }
 },
 "nbformat": 4,
 "nbformat_minor": 2
}
