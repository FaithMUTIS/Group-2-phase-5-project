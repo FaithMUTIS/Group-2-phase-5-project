{
 "cells": [
  {
   "cell_type": "code",
   "execution_count": null,
   "metadata": {},
   "outputs": [],
   "source": []
  },
  {
   "cell_type": "code",
   "execution_count": 9,
   "metadata": {},
   "outputs": [],
   "source": [
    "##import necessary libraries\n",
    "import numpy as np\n",
    "import pandas as pd\n",
    "import glob\n",
    "import os\n",
    "from matplotlib import pyplot as plt\n",
    "import seaborn as sns\n",
    "%matplotlib inline\n",
    "\n",
    "import warnings\n",
    "warnings.filterwarnings('ignore')\n",
    "\n",
    "#sklearn preprocessing\n",
    "from sklearn.preprocessing import StandardScaler, LabelEncoder\n",
    "from sklearn.linear_model import Lasso, Ridge, LinearRegression\n",
    "from sklearn.metrics import mean_squared_error\n",
    "\n",
    "# sklearn classification models\n",
    "from sklearn.linear_model import LogisticRegression\n",
    "from sklearn.tree import DecisionTreeClassifier\n",
    "from sklearn.neighbors import KNeighborsClassifier\n",
    "from sklearn.ensemble import RandomForestClassifier\n",
    "\n",
    "#sklearn evaluation metrics and validation\n",
    "from sklearn.model_selection import train_test_split, cross_val_score, GridSearchCV\n",
    "from sklearn.metrics import accuracy_score, recall_score, precision_score, f1_score"
   ]
  },
  {
   "cell_type": "code",
   "execution_count": 10,
   "metadata": {},
   "outputs": [],
   "source": [
    "# Read all CSV files in the specified folder\n",
    "file_paths = [\"Pune.csv\", \"Mumbai.csv\", \"Kolkata.csv\", \"Jaipur.csv\", \n",
    "              \"Hyderabad.csv\", \"Gurgaon.csv\", \"Chennai.csv\", \n",
    "              \"Car_data.csv\", \"Banglore.csv\", \"Ahmedabad.csv\"]\n",
    "\n",
    "# Concatenate all files into a single DataFrame\n",
    "df = pd.concat([pd.read_csv(file) for file in file_paths], ignore_index=True)"
   ]
  },
  {
   "cell_type": "code",
   "execution_count": 11,
   "metadata": {},
   "outputs": [
    {
     "name": "stdout",
     "output_type": "stream",
     "text": [
      "   Unnamed: 0                      Brand  Make_Year    Fuel  KMs_Driven  \\\n",
      "0           0  2019 Maruti Vitara Brezza       2018  Diesel  34,470 Kms   \n",
      "1           1  2019 Maruti Vitara Brezza       2018  Diesel  27,133 Kms   \n",
      "2           2        2017 Maruti Celerio       2017  Petrol  75,447 Kms   \n",
      "3           3    2017 Maruti Swift Dzire       2017  Diesel  34,110 Kms   \n",
      "4           4     2016 Hyundai Grand i10       2015  Petrol  27,123 Kms   \n",
      "\n",
      "  Engine_Displacement No_Of_Owner Transmission        Mileage Max_Power  ...  \\\n",
      "0             1248 cc   1st Owner    Automatic      24.3 kmpl   88.5bhp  ...   \n",
      "1             1248 cc   1st Owner    Automatic      24.3 kmpl   88.5bhp  ...   \n",
      "2              998 cc   1st Owner         MH12  Comprehensive    998 CC  ...   \n",
      "3             1248 cc   1st Owner       Manual      28.4 kmpl  74.02bhp  ...   \n",
      "4             1197 cc   1st Owner       Manual      18.9 kmpl     82bhp  ...   \n",
      "\n",
      "  Seats   Color Gear_Box Drive_Type Steering_Type Front_Brake_Type  \\\n",
      "0     5  Silver  5 Speed        FWD         Power  Ventilated Disc   \n",
      "1     5   White  5 Speed        FWD         Power  Ventilated Disc   \n",
      "2     5    Grey  5 Speed        FWD         Power  Ventilated Disc   \n",
      "3     5   Other  5 Speed        FWD         Power             Disc   \n",
      "4     5     Red  5 Speed        FWD         Power             Disc   \n",
      "\n",
      "  Rear_Brake_Type   Acceleration               Engine_Type     Price  \n",
      "0            Drum  12.36 Seconds    DDiS 200 Diesel Engine  9,30,000  \n",
      "1            Drum  12.36 Seconds    DDiS 200 Diesel Engine  9,10,000  \n",
      "2            Drum  15.05 Seconds               K10B Engine  4,50,000  \n",
      "3            Drum  13.03 Seconds        DDiS Diesel Engine  7,30,000  \n",
      "4            Drum   12.9 Seconds  Kappa VTVT Petrol Engine  4,60,000  \n",
      "\n",
      "[5 rows x 21 columns]\n"
     ]
    }
   ],
   "source": [
    "# Check the first few rows to understand the structure\n",
    "print(df.head())"
   ]
  },
  {
   "cell_type": "code",
   "execution_count": 12,
   "metadata": {},
   "outputs": [
    {
     "name": "stdout",
     "output_type": "stream",
     "text": [
      "<class 'pandas.core.frame.DataFrame'>\n",
      "RangeIndex: 10394 entries, 0 to 10393\n",
      "Data columns (total 21 columns):\n",
      " #   Column               Non-Null Count  Dtype \n",
      "---  ------               --------------  ----- \n",
      " 0   Unnamed: 0           10394 non-null  int64 \n",
      " 1   Brand                10394 non-null  object\n",
      " 2   Make_Year            10394 non-null  int64 \n",
      " 3   Fuel                 10394 non-null  object\n",
      " 4   KMs_Driven           10394 non-null  object\n",
      " 5   Engine_Displacement  10394 non-null  object\n",
      " 6   No_Of_Owner          10394 non-null  object\n",
      " 7   Transmission         10394 non-null  object\n",
      " 8   Mileage              10394 non-null  object\n",
      " 9   Max_Power            10394 non-null  object\n",
      " 10  Torque               10394 non-null  object\n",
      " 11  Seats                10394 non-null  int64 \n",
      " 12  Color                10394 non-null  object\n",
      " 13  Gear_Box             10386 non-null  object\n",
      " 14  Drive_Type           10208 non-null  object\n",
      " 15  Steering_Type        10344 non-null  object\n",
      " 16  Front_Brake_Type     10346 non-null  object\n",
      " 17  Rear_Brake_Type      10346 non-null  object\n",
      " 18  Acceleration         9320 non-null   object\n",
      " 19  Engine_Type          5144 non-null   object\n",
      " 20  Price                10394 non-null  object\n",
      "dtypes: int64(3), object(18)\n",
      "memory usage: 1.7+ MB\n",
      "None\n"
     ]
    }
   ],
   "source": [
    "# Overview of the dataset\n",
    "print(df.info())"
   ]
  },
  {
   "cell_type": "code",
   "execution_count": 13,
   "metadata": {},
   "outputs": [
    {
     "name": "stdout",
     "output_type": "stream",
     "text": [
      "         Unnamed: 0     Make_Year         Seats\n",
      "count  10394.000000  10394.000000  10394.000000\n",
      "mean    1460.271984   2014.891861      5.188378\n",
      "std     1563.455786      3.094559      0.653699\n",
      "min        0.000000   1995.000000      2.000000\n",
      "25%      262.000000   2013.000000      5.000000\n",
      "50%      594.000000   2015.000000      5.000000\n",
      "75%     2597.750000   2017.000000      5.000000\n",
      "max     5196.000000   2021.000000      9.000000\n"
     ]
    }
   ],
   "source": [
    "# Summary statistics for numerical columns\n",
    "print(df.describe())"
   ]
  },
  {
   "cell_type": "markdown",
   "metadata": {},
   "source": [
    "Identify Missing Values"
   ]
  },
  {
   "cell_type": "code",
   "execution_count": null,
   "metadata": {},
   "outputs": [],
   "source": []
  }
 ],
 "metadata": {
  "kernelspec": {
   "display_name": "learn-env",
   "language": "python",
   "name": "python3"
  },
  "language_info": {
   "codemirror_mode": {
    "name": "ipython",
    "version": 3
   },
   "file_extension": ".py",
   "mimetype": "text/x-python",
   "name": "python",
   "nbconvert_exporter": "python",
   "pygments_lexer": "ipython3",
   "version": "3.8.5"
  }
 },
 "nbformat": 4,
 "nbformat_minor": 2
}
